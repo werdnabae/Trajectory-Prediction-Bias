{
 "cells": [
  {
   "cell_type": "code",
   "execution_count": 2,
   "metadata": {},
   "outputs": [],
   "source": [
    "import os\n",
    "import numpy as np\n",
    "import pickle as pkl\n",
    "from matplotlib import pyplot as plt\n",
    "from statistics import mean\n",
    "import pandas as pd\n",
    "from scipy import stats"
   ]
  },
  {
   "cell_type": "code",
   "execution_count": 3,
   "metadata": {},
   "outputs": [],
   "source": [
    "child = open('BiTrapNP_TITAN_child_test.pkl', 'rb')\n",
    "child = pkl.load(child)\n",
    "\n",
    "adult = open('BiTrapNP_TITAN_adult_test.pkl', 'rb')\n",
    "adult = pkl.load(adult)\n",
    "\n",
    "elderly = open('BiTrapNP_TITAN_elderly_test.pkl', 'rb')\n",
    "elderly = pkl.load(elderly)\n",
    "\n",
    "all = open('BiTrapNP_TITAN_all_test.pkl', 'rb')\n",
    "all= pkl.load(all)"
   ]
  },
  {
   "cell_type": "markdown",
   "metadata": {},
   "source": [
    "## Kruskal Wallis Test - Age"
   ]
  },
  {
   "cell_type": "code",
   "execution_count": 4,
   "metadata": {},
   "outputs": [
    {
     "name": "stdout",
     "output_type": "stream",
     "text": [
      "MSE 0.5:  KruskalResult(statistic=118.37816266325535, pvalue=1.9701921700035045e-26)\n",
      "MSE 1.0:  KruskalResult(statistic=102.77464461535419, pvalue=4.81692053719735e-23)\n",
      "MSE 1.5:  KruskalResult(statistic=99.63025708802888, pvalue=2.3204090895926137e-22)\n",
      "CMSE 1.5:  KruskalResult(statistic=74.49785318405338, pvalue=6.652681382900993e-17)\n",
      "CFMSE 1.5:  KruskalResult(statistic=52.083860810009355, pvalue=4.8992920296057624e-12)\n"
     ]
    }
   ],
   "source": [
    "print('MSE 0.5: ', stats.kruskal(child['MSE_05'], adult['MSE_05'], elderly['MSE_05']))\n",
    "print('MSE 1.0: ', stats.kruskal(child['MSE_10'], adult['MSE_10'], elderly['MSE_10']))\n",
    "print('MSE 1.5: ', stats.kruskal(child['MSE_15'], adult['MSE_15'], elderly['MSE_15']))\n",
    "print('CMSE 1.5: ', stats.kruskal(child['CMSE'], adult['CMSE'], elderly['CMSE']))\n",
    "print('CFMSE 1.5: ', stats.kruskal(child['CFMSE'], adult['CFMSE'], elderly['CFMSE']))"
   ]
  },
  {
   "cell_type": "markdown",
   "metadata": {},
   "source": [
    "## Mann-Whitney U Test - Age"
   ]
  },
  {
   "cell_type": "markdown",
   "metadata": {},
   "source": [
    "#### Child/Adult"
   ]
  },
  {
   "cell_type": "code",
   "execution_count": 5,
   "metadata": {},
   "outputs": [
    {
     "name": "stdout",
     "output_type": "stream",
     "text": [
      "MSE 0.5:  MannwhitneyuResult(statistic=1468273.0, pvalue=7.359364221053164e-06)\n",
      "MSE 1.0:  MannwhitneyuResult(statistic=1673339.0, pvalue=0.11117715748451708)\n",
      "MSE 1.5:  MannwhitneyuResult(statistic=1822086.0, pvalue=0.6146642995180456)\n",
      "CMSE 1.5:  MannwhitneyuResult(statistic=1919245.0, pvalue=0.061104761944997636)\n",
      "CFMSE 1.5:  MannwhitneyuResult(statistic=2120946.0, pvalue=2.412259642092451e-06)\n"
     ]
    }
   ],
   "source": [
    "print('MSE 0.5: ', stats.mannwhitneyu(child['MSE_05'], adult['MSE_05']))\n",
    "print('MSE 1.0: ', stats.mannwhitneyu(child['MSE_10'], adult['MSE_10']))\n",
    "print('MSE 1.5: ', stats.mannwhitneyu(child['MSE_15'], adult['MSE_15']))\n",
    "print('CMSE 1.5: ', stats.mannwhitneyu(child['CMSE'], adult['CMSE']))\n",
    "print('CFMSE 1.5: ', stats.mannwhitneyu(child['CFMSE'], adult['CFMSE']))"
   ]
  },
  {
   "cell_type": "markdown",
   "metadata": {},
   "source": [
    "#### Elderly/Adult"
   ]
  },
  {
   "cell_type": "code",
   "execution_count": 6,
   "metadata": {},
   "outputs": [
    {
     "name": "stdout",
     "output_type": "stream",
     "text": [
      "MSE 0.5:  MannwhitneyuResult(statistic=20118558.0, pvalue=1.869341929914819e-22)\n",
      "MSE 1.0:  MannwhitneyuResult(statistic=20165391.0, pvalue=2.606173495128975e-23)\n",
      "MSE 1.5:  MannwhitneyuResult(statistic=20173857.0, pvalue=1.817691525873433e-23)\n",
      "CMSE 1.5:  MannwhitneyuResult(statistic=19821265.0, pvalue=2.0435313275999192e-17)\n",
      "CFMSE 1.5:  MannwhitneyuResult(statistic=19145886.0, pvalue=1.7519238013806812e-08)\n"
     ]
    }
   ],
   "source": [
    "print('MSE 0.5: ', stats.mannwhitneyu(elderly['MSE_05'], adult['MSE_05']))\n",
    "print('MSE 1.0: ', stats.mannwhitneyu(elderly['MSE_10'], adult['MSE_10']))\n",
    "print('MSE 1.5: ', stats.mannwhitneyu(elderly['MSE_15'], adult['MSE_15']))\n",
    "print('CMSE 1.5: ', stats.mannwhitneyu(elderly['CMSE'], adult['CMSE']))\n",
    "print('CFMSE 1.5: ', stats.mannwhitneyu(elderly['CFMSE'], adult['CFMSE']))"
   ]
  },
  {
   "cell_type": "markdown",
   "metadata": {},
   "source": [
    "#### Child/Adult one-sided"
   ]
  },
  {
   "cell_type": "code",
   "execution_count": 7,
   "metadata": {},
   "outputs": [
    {
     "name": "stdout",
     "output_type": "stream",
     "text": [
      "MSE 0.5:  MannwhitneyuResult(statistic=1468273.0, pvalue=0.9999963205609996)\n",
      "MSE 1.0:  MannwhitneyuResult(statistic=1673339.0, pvalue=0.9444130022609514)\n",
      "MSE 1.5:  MannwhitneyuResult(statistic=1822086.0, pvalue=0.3073321497590228)\n",
      "CMSE 1.5:  MannwhitneyuResult(statistic=1919245.0, pvalue=0.030552380972498818)\n",
      "CFMSE 1.5:  MannwhitneyuResult(statistic=2120946.0, pvalue=1.2061298210462254e-06)\n"
     ]
    }
   ],
   "source": [
    "print('MSE 0.5: ', stats.mannwhitneyu(child['MSE_05'], adult['MSE_05'], alternative = 'greater'))\n",
    "print('MSE 1.0: ', stats.mannwhitneyu(child['MSE_10'], adult['MSE_10'], alternative = 'greater'))\n",
    "print('MSE 1.5: ', stats.mannwhitneyu(child['MSE_15'], adult['MSE_15'], alternative = 'greater'))\n",
    "print('CMSE 1.5: ', stats.mannwhitneyu(child['CMSE'], adult['CMSE'], alternative = 'greater'))\n",
    "print('CFMSE 1.5: ', stats.mannwhitneyu(child['CFMSE'], adult['CFMSE'], alternative = 'greater'))"
   ]
  },
  {
   "cell_type": "markdown",
   "metadata": {},
   "source": [
    "#### elderly/adult one-sided"
   ]
  },
  {
   "cell_type": "code",
   "execution_count": 8,
   "metadata": {},
   "outputs": [
    {
     "name": "stdout",
     "output_type": "stream",
     "text": [
      "MSE 0.5:  MannwhitneyuResult(statistic=20118558.0, pvalue=9.346709649574095e-23)\n",
      "MSE 1.0:  MannwhitneyuResult(statistic=20165391.0, pvalue=1.3030867475644875e-23)\n",
      "MSE 1.5:  MannwhitneyuResult(statistic=20173857.0, pvalue=9.088457629367164e-24)\n",
      "CMSE 1.5:  MannwhitneyuResult(statistic=19821265.0, pvalue=1.0217656637999596e-17)\n",
      "CFMSE 1.5:  MannwhitneyuResult(statistic=19145886.0, pvalue=8.759619006903406e-09)\n"
     ]
    }
   ],
   "source": [
    "print('MSE 0.5: ', stats.mannwhitneyu(elderly['MSE_05'], adult['MSE_05'], alternative = 'greater'))\n",
    "print('MSE 1.0: ', stats.mannwhitneyu(elderly['MSE_10'], adult['MSE_10'], alternative = 'greater'))\n",
    "print('MSE 1.5: ', stats.mannwhitneyu(elderly['MSE_15'], adult['MSE_15'], alternative = 'greater'))\n",
    "print('CMSE 1.5: ', stats.mannwhitneyu(elderly['CMSE'], adult['CMSE'], alternative = 'greater'))\n",
    "print('CFMSE 1.5: ', stats.mannwhitneyu(elderly['CFMSE'], adult['CFMSE'], alternative = 'greater'))"
   ]
  },
  {
   "cell_type": "markdown",
   "metadata": {},
   "source": [
    "## Wasserstein distance"
   ]
  },
  {
   "cell_type": "markdown",
   "metadata": {},
   "source": [
    "#### child/all"
   ]
  },
  {
   "cell_type": "code",
   "execution_count": 6,
   "metadata": {},
   "outputs": [
    {
     "name": "stdout",
     "output_type": "stream",
     "text": [
      "MSE 0.5:  111.31747013966397\n",
      "MSE 1.0:  153.22186827035452\n",
      "MSE 1.5:  275.9143655220298\n",
      "CMSE 1.5:  297.0709451579001\n",
      "CFMSE 1.5:  952.7325356040635\n"
     ]
    }
   ],
   "source": [
    "print('MSE 0.5: ', stats.wasserstein_distance(child['MSE_05'], all['MSE_05']))\n",
    "print('MSE 1.0: ', stats.wasserstein_distance(child['MSE_10'], all['MSE_10']))\n",
    "print('MSE 1.5: ', stats.wasserstein_distance(child['MSE_15'], all['MSE_15']))\n",
    "print('CMSE 1.5: ', stats.wasserstein_distance(child['CMSE'], all['CMSE']))\n",
    "print('CFMSE 1.5: ', stats.wasserstein_distance(child['CFMSE'], all['CFMSE']))"
   ]
  },
  {
   "cell_type": "markdown",
   "metadata": {},
   "source": [
    "#### adult/all"
   ]
  },
  {
   "cell_type": "code",
   "execution_count": 7,
   "metadata": {},
   "outputs": [
    {
     "name": "stdout",
     "output_type": "stream",
     "text": [
      "MSE 0.5:  9.890932335316322\n",
      "MSE 1.0:  21.276236041096396\n",
      "MSE 1.5:  37.74898999884614\n",
      "CMSE 1.5:  34.49004847182163\n",
      "CFMSE 1.5:  85.01750811530661\n"
     ]
    }
   ],
   "source": [
    "print('MSE 0.5: ', stats.wasserstein_distance(adult['MSE_05'], all['MSE_05']))\n",
    "print('MSE 1.0: ', stats.wasserstein_distance(adult['MSE_10'], all['MSE_10']))\n",
    "print('MSE 1.5: ', stats.wasserstein_distance(adult['MSE_15'], all['MSE_15']))\n",
    "print('CMSE 1.5: ', stats.wasserstein_distance(adult['CMSE'], all['CMSE']))\n",
    "print('CFMSE 1.5: ', stats.wasserstein_distance(adult['CFMSE'], all['CFMSE']))"
   ]
  },
  {
   "cell_type": "markdown",
   "metadata": {},
   "source": [
    "#### elderly/all"
   ]
  },
  {
   "cell_type": "code",
   "execution_count": 8,
   "metadata": {},
   "outputs": [
    {
     "name": "stdout",
     "output_type": "stream",
     "text": [
      "MSE 0.5:  71.00179126269698\n",
      "MSE 1.0:  118.47533520791345\n",
      "MSE 1.5:  140.02262153652268\n",
      "CMSE 1.5:  114.04973725492523\n",
      "CFMSE 1.5:  367.99591342781525\n"
     ]
    }
   ],
   "source": [
    "print('MSE 0.5: ', stats.wasserstein_distance(elderly['MSE_05'], all['MSE_05']))\n",
    "print('MSE 1.0: ', stats.wasserstein_distance(elderly['MSE_10'], all['MSE_10']))\n",
    "print('MSE 1.5: ', stats.wasserstein_distance(elderly['MSE_15'], all['MSE_15']))\n",
    "print('CMSE 1.5: ', stats.wasserstein_distance(elderly['CMSE'], all['CMSE']))\n",
    "print('CFMSE 1.5: ', stats.wasserstein_distance(elderly['CFMSE'], all['CFMSE']))"
   ]
  },
  {
   "cell_type": "markdown",
   "metadata": {},
   "source": [
    "#### child/adult"
   ]
  },
  {
   "cell_type": "code",
   "execution_count": 9,
   "metadata": {},
   "outputs": [
    {
     "name": "stdout",
     "output_type": "stream",
     "text": [
      "MSE 0.5:  113.60614521693013\n",
      "MSE 1.0:  157.91569714919416\n",
      "MSE 1.5:  288.86530811091876\n",
      "CMSE 1.5:  309.6067707931063\n",
      "CFMSE 1.5:  976.589209120631\n"
     ]
    }
   ],
   "source": [
    "print('MSE 0.5: ', stats.wasserstein_distance(child['MSE_05'], adult['MSE_05']))\n",
    "print('MSE 1.0: ', stats.wasserstein_distance(child['MSE_10'], adult['MSE_10']))\n",
    "print('MSE 1.5: ', stats.wasserstein_distance(child['MSE_15'], adult['MSE_15']))\n",
    "print('CMSE 1.5: ', stats.wasserstein_distance(child['CMSE'], adult['CMSE']))\n",
    "print('CFMSE 1.5: ', stats.wasserstein_distance(child['CFMSE'], adult['CFMSE']))"
   ]
  },
  {
   "cell_type": "markdown",
   "metadata": {},
   "source": [
    "#### elderly/adult"
   ]
  },
  {
   "cell_type": "code",
   "execution_count": 10,
   "metadata": {},
   "outputs": [
    {
     "name": "stdout",
     "output_type": "stream",
     "text": [
      "MSE 0.5:  79.22750532060915\n",
      "MSE 1.0:  133.22436900670152\n",
      "MSE 1.5:  166.20714026349577\n",
      "CMSE 1.5:  137.5188863048259\n",
      "CFMSE 1.5:  423.59792547064677\n"
     ]
    }
   ],
   "source": [
    "print('MSE 0.5: ', stats.wasserstein_distance(elderly['MSE_05'], adult['MSE_05']))\n",
    "print('MSE 1.0: ', stats.wasserstein_distance(elderly['MSE_10'], adult['MSE_10']))\n",
    "print('MSE 1.5: ', stats.wasserstein_distance(elderly['MSE_15'], adult['MSE_15']))\n",
    "print('CMSE 1.5: ', stats.wasserstein_distance(elderly['CMSE'], adult['CMSE']))\n",
    "print('CFMSE 1.5: ', stats.wasserstein_distance(elderly['CFMSE'], adult['CFMSE']))"
   ]
  }
 ],
 "metadata": {
  "kernelspec": {
   "display_name": "Python 3.9.12 ('base')",
   "language": "python",
   "name": "python3"
  },
  "language_info": {
   "codemirror_mode": {
    "name": "ipython",
    "version": 3
   },
   "file_extension": ".py",
   "mimetype": "text/x-python",
   "name": "python",
   "nbconvert_exporter": "python",
   "pygments_lexer": "ipython3",
   "version": "3.9.12"
  },
  "orig_nbformat": 4,
  "vscode": {
   "interpreter": {
    "hash": "db33168a371558177f016f3dcfd823d58450a3b104f322b87989a5f237dccb9b"
   }
  }
 },
 "nbformat": 4,
 "nbformat_minor": 2
}
