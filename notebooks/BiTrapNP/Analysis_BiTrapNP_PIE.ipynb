{
 "cells": [
  {
   "cell_type": "code",
   "execution_count": 2,
   "metadata": {},
   "outputs": [],
   "source": [
    "import os\n",
    "import numpy as np\n",
    "import pickle as pkl\n",
    "from matplotlib import pyplot as plt\n",
    "from statistics import mean\n",
    "import pandas as pd\n",
    "from scipy import stats"
   ]
  },
  {
   "cell_type": "code",
   "execution_count": 3,
   "metadata": {},
   "outputs": [],
   "source": [
    "child = open('BiTrapNP_PIE_child_test.pkl', 'rb')\n",
    "child = pkl.load(child)\n",
    "\n",
    "adult = open('BiTrapNP_PIE_adult_test.pkl', 'rb')\n",
    "adult = pkl.load(adult)\n",
    "\n",
    "elderly = open('BiTrapNP_PIE_elderly_test.pkl', 'rb')\n",
    "elderly = pkl.load(elderly)\n",
    "\n",
    "male = open('BiTrapNP_PIE_male_test.pkl', 'rb')\n",
    "male = pkl.load(male)\n",
    "\n",
    "female = open('BiTrapNP_PIE_female_test.pkl', 'rb')\n",
    "female = pkl.load(female)\n",
    "\n",
    "all = open('BiTrapNP_PIE_all_test.pkl', 'rb')\n",
    "all= pkl.load(all)"
   ]
  },
  {
   "cell_type": "markdown",
   "metadata": {},
   "source": [
    "## Kruskal Wallis Test - Age"
   ]
  },
  {
   "cell_type": "code",
   "execution_count": 4,
   "metadata": {},
   "outputs": [
    {
     "name": "stdout",
     "output_type": "stream",
     "text": [
      "MSE 0.5:  KruskalResult(statistic=415.95299963113644, pvalue=4.7528462394107113e-91)\n",
      "MSE 1.0:  KruskalResult(statistic=393.1115457196139, pvalue=4.33423505898669e-86)\n",
      "MSE 1.5:  KruskalResult(statistic=362.20289370980305, pvalue=2.231726478708057e-79)\n",
      "CMSE 1.5:  KruskalResult(statistic=325.9016913892748, pvalue=1.703518653122144e-71)\n",
      "CFMSE 1.5:  KruskalResult(statistic=163.93564328123884, pvalue=2.5224778876616177e-36)\n"
     ]
    }
   ],
   "source": [
    "print('MSE 0.5: ', stats.kruskal(child['MSE_05'], adult['MSE_05'], elderly['MSE_05']))\n",
    "print('MSE 1.0: ', stats.kruskal(child['MSE_10'], adult['MSE_10'], elderly['MSE_10']))\n",
    "print('MSE 1.5: ', stats.kruskal(child['MSE_15'], adult['MSE_15'], elderly['MSE_15']))\n",
    "print('CMSE 1.5: ', stats.kruskal(child['CMSE'], adult['CMSE'], elderly['CMSE']))\n",
    "print('CFMSE 1.5: ', stats.kruskal(child['CFMSE'], adult['CFMSE'], elderly['CFMSE']))"
   ]
  },
  {
   "cell_type": "markdown",
   "metadata": {},
   "source": [
    "## Mann-Whitney U Test - Age"
   ]
  },
  {
   "cell_type": "markdown",
   "metadata": {},
   "source": [
    "#### Child/Adult"
   ]
  },
  {
   "cell_type": "code",
   "execution_count": 5,
   "metadata": {},
   "outputs": [
    {
     "name": "stdout",
     "output_type": "stream",
     "text": [
      "MSE 0.5:  MannwhitneyuResult(statistic=1584754.0, pvalue=0.9178107404463466)\n",
      "MSE 1.0:  MannwhitneyuResult(statistic=1661009.0, pvalue=0.4794237039400968)\n",
      "MSE 1.5:  MannwhitneyuResult(statistic=1671724.0, pvalue=0.41158478282882616)\n",
      "CMSE 1.5:  MannwhitneyuResult(statistic=1764853.0, pvalue=0.07016009394943201)\n",
      "CFMSE 1.5:  MannwhitneyuResult(statistic=1825874.0, pvalue=0.013916864034261065)\n"
     ]
    }
   ],
   "source": [
    "print('MSE 0.5: ', stats.mannwhitneyu(child['MSE_05'], adult['MSE_05']))\n",
    "print('MSE 1.0: ', stats.mannwhitneyu(child['MSE_10'], adult['MSE_10']))\n",
    "print('MSE 1.5: ', stats.mannwhitneyu(child['MSE_15'], adult['MSE_15']))\n",
    "print('CMSE 1.5: ', stats.mannwhitneyu(child['CMSE'], adult['CMSE']))\n",
    "print('CFMSE 1.5: ', stats.mannwhitneyu(child['CFMSE'], adult['CFMSE']))"
   ]
  },
  {
   "cell_type": "markdown",
   "metadata": {},
   "source": [
    "#### Elderly/Adult"
   ]
  },
  {
   "cell_type": "code",
   "execution_count": 6,
   "metadata": {},
   "outputs": [
    {
     "name": "stdout",
     "output_type": "stream",
     "text": [
      "MSE 0.5:  MannwhitneyuResult(statistic=59041056.0, pvalue=1.54585649032654e-92)\n",
      "MSE 1.0:  MannwhitneyuResult(statistic=58733699.0, pvalue=1.5637606326468183e-87)\n",
      "MSE 1.5:  MannwhitneyuResult(statistic=58303133.0, pvalue=9.281782892078407e-81)\n",
      "CMSE 1.5:  MannwhitneyuResult(statistic=57743550.0, pvalue=2.2698111798836913e-72)\n",
      "CFMSE 1.5:  MannwhitneyuResult(statistic=54844179.0, pvalue=2.0831186173433235e-36)\n"
     ]
    }
   ],
   "source": [
    "print('MSE 0.5: ', stats.mannwhitneyu(elderly['MSE_05'], adult['MSE_05']))\n",
    "print('MSE 1.0: ', stats.mannwhitneyu(elderly['MSE_10'], adult['MSE_10']))\n",
    "print('MSE 1.5: ', stats.mannwhitneyu(elderly['MSE_15'], adult['MSE_15']))\n",
    "print('CMSE 1.5: ', stats.mannwhitneyu(elderly['CMSE'], adult['CMSE']))\n",
    "print('CFMSE 1.5: ', stats.mannwhitneyu(elderly['CFMSE'], adult['CFMSE']))"
   ]
  },
  {
   "cell_type": "markdown",
   "metadata": {},
   "source": [
    "#### Child/Adult one-sided"
   ]
  },
  {
   "cell_type": "code",
   "execution_count": 7,
   "metadata": {},
   "outputs": [
    {
     "name": "stdout",
     "output_type": "stream",
     "text": [
      "MSE 0.5:  MannwhitneyuResult(statistic=1584754.0, pvalue=0.5410988471874298)\n",
      "MSE 1.0:  MannwhitneyuResult(statistic=1661009.0, pvalue=0.2397118519700484)\n",
      "MSE 1.5:  MannwhitneyuResult(statistic=1671724.0, pvalue=0.20579239141441308)\n",
      "CMSE 1.5:  MannwhitneyuResult(statistic=1764853.0, pvalue=0.035080046974716006)\n",
      "CFMSE 1.5:  MannwhitneyuResult(statistic=1825874.0, pvalue=0.006958432017130533)\n"
     ]
    }
   ],
   "source": [
    "print('MSE 0.5: ', stats.mannwhitneyu(child['MSE_05'], adult['MSE_05'], alternative = 'greater'))\n",
    "print('MSE 1.0: ', stats.mannwhitneyu(child['MSE_10'], adult['MSE_10'], alternative = 'greater'))\n",
    "print('MSE 1.5: ', stats.mannwhitneyu(child['MSE_15'], adult['MSE_15'], alternative = 'greater'))\n",
    "print('CMSE 1.5: ', stats.mannwhitneyu(child['CMSE'], adult['CMSE'], alternative = 'greater'))\n",
    "print('CFMSE 1.5: ', stats.mannwhitneyu(child['CFMSE'], adult['CFMSE'], alternative = 'greater'))"
   ]
  },
  {
   "cell_type": "markdown",
   "metadata": {},
   "source": [
    "#### Elderly/Adult one-sided"
   ]
  },
  {
   "cell_type": "code",
   "execution_count": 8,
   "metadata": {},
   "outputs": [
    {
     "name": "stdout",
     "output_type": "stream",
     "text": [
      "MSE 0.5:  MannwhitneyuResult(statistic=59041056.0, pvalue=7.7292824516327e-93)\n",
      "MSE 1.0:  MannwhitneyuResult(statistic=58733699.0, pvalue=7.818803163234091e-88)\n",
      "MSE 1.5:  MannwhitneyuResult(statistic=58303133.0, pvalue=4.640891446039203e-81)\n",
      "CMSE 1.5:  MannwhitneyuResult(statistic=57743550.0, pvalue=1.1349055899418456e-72)\n",
      "CFMSE 1.5:  MannwhitneyuResult(statistic=54844179.0, pvalue=1.0415593086716617e-36)\n"
     ]
    }
   ],
   "source": [
    "print('MSE 0.5: ', stats.mannwhitneyu(elderly['MSE_05'], adult['MSE_05'], alternative = 'greater'))\n",
    "print('MSE 1.0: ', stats.mannwhitneyu(elderly['MSE_10'], adult['MSE_10'], alternative = 'greater'))\n",
    "print('MSE 1.5: ', stats.mannwhitneyu(elderly['MSE_15'], adult['MSE_15'], alternative = 'greater'))\n",
    "print('CMSE 1.5: ', stats.mannwhitneyu(elderly['CMSE'], adult['CMSE'], alternative = 'greater'))\n",
    "print('CFMSE 1.5: ', stats.mannwhitneyu(elderly['CFMSE'], adult['CFMSE'], alternative = 'greater'))"
   ]
  },
  {
   "cell_type": "markdown",
   "metadata": {},
   "source": [
    "### Mann-Whitney U Test - Gender"
   ]
  },
  {
   "cell_type": "code",
   "execution_count": 5,
   "metadata": {},
   "outputs": [
    {
     "name": "stdout",
     "output_type": "stream",
     "text": [
      "MSE 0.5:  MannwhitneyuResult(statistic=163367145.0, pvalue=0.555080793390082)\n",
      "MSE 1.0:  MannwhitneyuResult(statistic=163396304.0, pvalue=0.5355320611812502)\n",
      "MSE 1.5:  MannwhitneyuResult(statistic=164017422.0, pvalue=0.21267183232857012)\n",
      "CMSE 1.5:  MannwhitneyuResult(statistic=161683101.0, pvalue=0.26746088686785807)\n",
      "CFMSE 1.5:  MannwhitneyuResult(statistic=161469602.0, pvalue=0.18539155173848199)\n"
     ]
    }
   ],
   "source": [
    "print('MSE 0.5: ', stats.mannwhitneyu(male['MSE_05'], female['MSE_05']))\n",
    "print('MSE 1.0: ', stats.mannwhitneyu(male['MSE_10'], female['MSE_10']))\n",
    "print('MSE 1.5: ', stats.mannwhitneyu(male['MSE_15'], female['MSE_15']))\n",
    "print('CMSE 1.5: ', stats.mannwhitneyu(male['CMSE'], female['CMSE']))\n",
    "print('CFMSE 1.5: ', stats.mannwhitneyu(male['CFMSE'], female['CFMSE']))"
   ]
  },
  {
   "cell_type": "markdown",
   "metadata": {},
   "source": [
    "### Mann-Whitney U Test - Gender one side"
   ]
  },
  {
   "cell_type": "code",
   "execution_count": 9,
   "metadata": {},
   "outputs": [
    {
     "name": "stdout",
     "output_type": "stream",
     "text": [
      "MSE 0.5:  MannwhitneyuResult(statistic=163367145.0, pvalue=0.277540396695041)\n",
      "MSE 1.0:  MannwhitneyuResult(statistic=163396304.0, pvalue=0.2677660305906251)\n",
      "MSE 1.5:  MannwhitneyuResult(statistic=164017422.0, pvalue=0.10633591616428506)\n",
      "CMSE 1.5:  MannwhitneyuResult(statistic=161683101.0, pvalue=0.866269774208083)\n",
      "CFMSE 1.5:  MannwhitneyuResult(statistic=161469602.0, pvalue=0.9073043915967663)\n"
     ]
    }
   ],
   "source": [
    "print('MSE 0.5: ', stats.mannwhitneyu(male['MSE_05'], female['MSE_05'], alternative = 'greater'))\n",
    "print('MSE 1.0: ', stats.mannwhitneyu(male['MSE_10'], female['MSE_10'], alternative = 'greater'))\n",
    "print('MSE 1.5: ', stats.mannwhitneyu(male['MSE_15'], female['MSE_15'], alternative = 'greater'))\n",
    "print('CMSE 1.5: ', stats.mannwhitneyu(male['CMSE'], female['CMSE'], alternative = 'greater'))\n",
    "print('CFMSE 1.5: ', stats.mannwhitneyu(male['CFMSE'], female['CFMSE'], alternative = 'greater'))"
   ]
  },
  {
   "cell_type": "markdown",
   "metadata": {},
   "source": [
    "## Wasserstein distance"
   ]
  },
  {
   "cell_type": "markdown",
   "metadata": {},
   "source": [
    "#### child/all"
   ]
  },
  {
   "cell_type": "code",
   "execution_count": 7,
   "metadata": {},
   "outputs": [
    {
     "name": "stdout",
     "output_type": "stream",
     "text": [
      "MSE 0.5:  29.207542239939563\n",
      "MSE 1.0:  117.10041672996337\n",
      "MSE 1.5:  326.4990348066382\n",
      "CMSE 1.5:  299.7807150955456\n",
      "CFMSE 1.5:  949.3528245440713\n"
     ]
    }
   ],
   "source": [
    "print('MSE 0.5: ', stats.wasserstein_distance(child['MSE_05'], all['MSE_05']))\n",
    "print('MSE 1.0: ', stats.wasserstein_distance(child['MSE_10'], all['MSE_10']))\n",
    "print('MSE 1.5: ', stats.wasserstein_distance(child['MSE_15'], all['MSE_15']))\n",
    "print('CMSE 1.5: ', stats.wasserstein_distance(child['CMSE'], all['CMSE']))\n",
    "print('CFMSE 1.5: ', stats.wasserstein_distance(child['CFMSE'], all['CFMSE']))"
   ]
  },
  {
   "cell_type": "markdown",
   "metadata": {},
   "source": [
    "#### adult/all"
   ]
  },
  {
   "cell_type": "code",
   "execution_count": 8,
   "metadata": {},
   "outputs": [
    {
     "name": "stdout",
     "output_type": "stream",
     "text": [
      "MSE 0.5:  1.3016203650607923\n",
      "MSE 1.0:  2.8465644242959627\n",
      "MSE 1.5:  7.777584051195421\n",
      "CMSE 1.5:  5.926913338976084\n",
      "CFMSE 1.5:  25.35892398916974\n"
     ]
    }
   ],
   "source": [
    "print('MSE 0.5: ', stats.wasserstein_distance(adult['MSE_05'], all['MSE_05']))\n",
    "print('MSE 1.0: ', stats.wasserstein_distance(adult['MSE_10'], all['MSE_10']))\n",
    "print('MSE 1.5: ', stats.wasserstein_distance(adult['MSE_15'], all['MSE_15']))\n",
    "print('CMSE 1.5: ', stats.wasserstein_distance(adult['CMSE'], all['CMSE']))\n",
    "print('CFMSE 1.5: ', stats.wasserstein_distance(adult['CFMSE'], all['CFMSE']))"
   ]
  },
  {
   "cell_type": "markdown",
   "metadata": {},
   "source": [
    "#### elderly/all"
   ]
  },
  {
   "cell_type": "code",
   "execution_count": 9,
   "metadata": {},
   "outputs": [
    {
     "name": "stdout",
     "output_type": "stream",
     "text": [
      "MSE 0.5:  15.095413031329807\n",
      "MSE 1.0:  31.762189590219737\n",
      "MSE 1.5:  73.04616435728805\n",
      "CMSE 1.5:  52.94109459063129\n",
      "CFMSE 1.5:  190.71083331748963\n"
     ]
    }
   ],
   "source": [
    "print('MSE 0.5: ', stats.wasserstein_distance(elderly['MSE_05'], all['MSE_05']))\n",
    "print('MSE 1.0: ', stats.wasserstein_distance(elderly['MSE_10'], all['MSE_10']))\n",
    "print('MSE 1.5: ', stats.wasserstein_distance(elderly['MSE_15'], all['MSE_15']))\n",
    "print('CMSE 1.5: ', stats.wasserstein_distance(elderly['CMSE'], all['CMSE']))\n",
    "print('CFMSE 1.5: ', stats.wasserstein_distance(elderly['CFMSE'], all['CFMSE']))"
   ]
  },
  {
   "cell_type": "markdown",
   "metadata": {},
   "source": [
    "#### male/all"
   ]
  },
  {
   "cell_type": "code",
   "execution_count": 10,
   "metadata": {},
   "outputs": [
    {
     "name": "stdout",
     "output_type": "stream",
     "text": [
      "MSE 0.5:  1.5608764084187652\n",
      "MSE 1.0:  3.6291049678479244\n",
      "MSE 1.5:  7.575131148870667\n",
      "CMSE 1.5:  6.208624671330057\n",
      "CFMSE 1.5:  25.850739102102096\n"
     ]
    }
   ],
   "source": [
    "print('MSE 0.5: ', stats.wasserstein_distance(male['MSE_05'], all['MSE_05']))\n",
    "print('MSE 1.0: ', stats.wasserstein_distance(male['MSE_10'], all['MSE_10']))\n",
    "print('MSE 1.5: ', stats.wasserstein_distance(male['MSE_15'], all['MSE_15']))\n",
    "print('CMSE 1.5: ', stats.wasserstein_distance(male['CMSE'], all['CMSE']))\n",
    "print('CFMSE 1.5: ', stats.wasserstein_distance(male['CFMSE'], all['CFMSE']))"
   ]
  },
  {
   "cell_type": "markdown",
   "metadata": {},
   "source": [
    "#### female/all"
   ]
  },
  {
   "cell_type": "code",
   "execution_count": 11,
   "metadata": {},
   "outputs": [
    {
     "name": "stdout",
     "output_type": "stream",
     "text": [
      "MSE 0.5:  1.9748083595715642\n",
      "MSE 1.0:  3.370694411796329\n",
      "MSE 1.5:  7.25449431670946\n",
      "CMSE 1.5:  3.956611038981758\n",
      "CFMSE 1.5:  23.502328697665888\n"
     ]
    }
   ],
   "source": [
    "print('MSE 0.5: ', stats.wasserstein_distance(female['MSE_05'], all['MSE_05']))\n",
    "print('MSE 1.0: ', stats.wasserstein_distance(female['MSE_10'], all['MSE_10']))\n",
    "print('MSE 1.5: ', stats.wasserstein_distance(female['MSE_15'], all['MSE_15']))\n",
    "print('CMSE 1.5: ', stats.wasserstein_distance(female['CMSE'], all['CMSE']))\n",
    "print('CFMSE 1.5: ', stats.wasserstein_distance(female['CFMSE'], all['CFMSE']))"
   ]
  },
  {
   "cell_type": "markdown",
   "metadata": {},
   "source": [
    "#### child/adult"
   ]
  },
  {
   "cell_type": "code",
   "execution_count": 12,
   "metadata": {},
   "outputs": [
    {
     "name": "stdout",
     "output_type": "stream",
     "text": [
      "MSE 0.5:  29.258142022027556\n",
      "MSE 1.0:  118.47732331755586\n",
      "MSE 1.5:  331.66062746666137\n",
      "CMSE 1.5:  304.3905661983682\n",
      "CFMSE 1.5:  963.7722359217621\n"
     ]
    }
   ],
   "source": [
    "print('MSE 0.5: ', stats.wasserstein_distance(child['MSE_05'], adult['MSE_05']))\n",
    "print('MSE 1.0: ', stats.wasserstein_distance(child['MSE_10'], adult['MSE_10']))\n",
    "print('MSE 1.5: ', stats.wasserstein_distance(child['MSE_15'], adult['MSE_15']))\n",
    "print('CMSE 1.5: ', stats.wasserstein_distance(child['CMSE'], adult['CMSE']))\n",
    "print('CFMSE 1.5: ', stats.wasserstein_distance(child['CFMSE'], adult['CFMSE']))"
   ]
  },
  {
   "cell_type": "markdown",
   "metadata": {},
   "source": [
    "#### elderly/adult"
   ]
  },
  {
   "cell_type": "code",
   "execution_count": 13,
   "metadata": {},
   "outputs": [
    {
     "name": "stdout",
     "output_type": "stream",
     "text": [
      "MSE 0.5:  16.38676452819567\n",
      "MSE 1.0:  34.59754544686368\n",
      "MSE 1.5:  80.8152579089763\n",
      "CMSE 1.5:  58.65496420126291\n",
      "CFMSE 1.5:  215.53389836948816\n"
     ]
    }
   ],
   "source": [
    "print('MSE 0.5: ', stats.wasserstein_distance(elderly['MSE_05'], adult['MSE_05']))\n",
    "print('MSE 1.0: ', stats.wasserstein_distance(elderly['MSE_10'], adult['MSE_10']))\n",
    "print('MSE 1.5: ', stats.wasserstein_distance(elderly['MSE_15'], adult['MSE_15']))\n",
    "print('CMSE 1.5: ', stats.wasserstein_distance(elderly['CMSE'], adult['CMSE']))\n",
    "print('CFMSE 1.5: ', stats.wasserstein_distance(elderly['CFMSE'], adult['CFMSE']))"
   ]
  },
  {
   "cell_type": "markdown",
   "metadata": {},
   "source": [
    "#### male/female"
   ]
  },
  {
   "cell_type": "code",
   "execution_count": 14,
   "metadata": {},
   "outputs": [
    {
     "name": "stdout",
     "output_type": "stream",
     "text": [
      "MSE 0.5:  3.480253432198702\n",
      "MSE 1.0:  6.910120898898725\n",
      "MSE 1.5:  13.994245058326335\n",
      "CMSE 1.5:  9.015378070340773\n",
      "CFMSE 1.5:  45.199272627676514\n"
     ]
    }
   ],
   "source": [
    "print('MSE 0.5: ', stats.wasserstein_distance(male['MSE_05'], female['MSE_05']))\n",
    "print('MSE 1.0: ', stats.wasserstein_distance(male['MSE_10'], female['MSE_10']))\n",
    "print('MSE 1.5: ', stats.wasserstein_distance(male['MSE_15'], female['MSE_15']))\n",
    "print('CMSE 1.5: ', stats.wasserstein_distance(male['CMSE'], female['CMSE']))\n",
    "print('CFMSE 1.5: ', stats.wasserstein_distance(male['CFMSE'], female['CFMSE']))"
   ]
  }
 ],
 "metadata": {
  "kernelspec": {
   "display_name": "Python 3.9.12 ('base')",
   "language": "python",
   "name": "python3"
  },
  "language_info": {
   "codemirror_mode": {
    "name": "ipython",
    "version": 3
   },
   "file_extension": ".py",
   "mimetype": "text/x-python",
   "name": "python",
   "nbconvert_exporter": "python",
   "pygments_lexer": "ipython3",
   "version": "3.9.12"
  },
  "orig_nbformat": 4,
  "vscode": {
   "interpreter": {
    "hash": "db33168a371558177f016f3dcfd823d58450a3b104f322b87989a5f237dccb9b"
   }
  }
 },
 "nbformat": 4,
 "nbformat_minor": 2
}
