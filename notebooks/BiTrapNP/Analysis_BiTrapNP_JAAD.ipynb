{
 "cells": [
  {
   "cell_type": "code",
   "execution_count": 2,
   "metadata": {},
   "outputs": [],
   "source": [
    "import os\n",
    "import numpy as np\n",
    "import pickle as pkl\n",
    "from matplotlib import pyplot as plt\n",
    "from statistics import mean\n",
    "import pandas as pd\n",
    "from scipy import stats"
   ]
  },
  {
   "cell_type": "code",
   "execution_count": 3,
   "metadata": {},
   "outputs": [],
   "source": [
    "child = open('BiTrapNP_JAAD_child_test.pkl', 'rb')\n",
    "child = pkl.load(child)\n",
    "\n",
    "adult = open('BiTrapNP_JAAD_adult_test.pkl', 'rb')\n",
    "adult = pkl.load(adult)\n",
    "\n",
    "elderly = open('BiTrapNP_JAAD_elderly_test.pkl', 'rb')\n",
    "elderly = pkl.load(elderly)\n",
    "\n",
    "male = open('BiTrapNP_JAAD_male_test.pkl', 'rb')\n",
    "male = pkl.load(male)\n",
    "\n",
    "female = open('BiTrapNP_JAAD_female_test.pkl', 'rb')\n",
    "female = pkl.load(female)\n",
    "\n",
    "all = open('BiTrapNP_JAAD_all_test.pkl', 'rb')\n",
    "all= pkl.load(all)\n",
    "\n",
    "labeled = open('BiTrapNP_JAAD_labeled_test.pkl', 'rb')\n",
    "labeled= pkl.load(labeled)"
   ]
  },
  {
   "cell_type": "markdown",
   "metadata": {},
   "source": [
    "## Kruskal Wallis Test - Age"
   ]
  },
  {
   "cell_type": "code",
   "execution_count": 4,
   "metadata": {},
   "outputs": [
    {
     "name": "stdout",
     "output_type": "stream",
     "text": [
      "MSE 0.5:  KruskalResult(statistic=1.7075396736581752, pvalue=0.425806680723974)\n",
      "MSE 1.0:  KruskalResult(statistic=9.793965826056592, pvalue=0.007469083986232081)\n",
      "MSE 1.5:  KruskalResult(statistic=34.15648042870271, pvalue=3.8283753768111226e-08)\n",
      "CMSE 1.5:  KruskalResult(statistic=36.64166234879485, pvalue=1.105004679226579e-08)\n",
      "CFMSE 1.5:  KruskalResult(statistic=30.42208649313943, pvalue=2.477010536886595e-07)\n"
     ]
    }
   ],
   "source": [
    "print('MSE 0.5: ', stats.kruskal(child['MSE_05'], adult['MSE_05'], elderly['MSE_05']))\n",
    "print('MSE 1.0: ', stats.kruskal(child['MSE_10'], adult['MSE_10'], elderly['MSE_10']))\n",
    "print('MSE 1.5: ', stats.kruskal(child['MSE_15'], adult['MSE_15'], elderly['MSE_15']))\n",
    "print('CMSE 1.5: ', stats.kruskal(child['CMSE'], adult['CMSE'], elderly['CMSE']))\n",
    "print('CFMSE 1.5: ', stats.kruskal(child['CFMSE'], adult['CFMSE'], elderly['CFMSE']))"
   ]
  },
  {
   "cell_type": "markdown",
   "metadata": {},
   "source": [
    "## Mann-Whitney U Test - Age"
   ]
  },
  {
   "cell_type": "markdown",
   "metadata": {},
   "source": [
    "#### Child/Adult"
   ]
  },
  {
   "cell_type": "code",
   "execution_count": 5,
   "metadata": {},
   "outputs": [
    {
     "name": "stdout",
     "output_type": "stream",
     "text": [
      "MSE 0.5:  MannwhitneyuResult(statistic=876360.0, pvalue=0.9793230523927072)\n",
      "MSE 1.0:  MannwhitneyuResult(statistic=926909.0, pvalue=0.0457720582649193)\n",
      "MSE 1.5:  MannwhitneyuResult(statistic=949055.0, pvalue=0.004219692810628682)\n",
      "CMSE 1.5:  MannwhitneyuResult(statistic=976509.0, pvalue=8.422561971080379e-05)\n",
      "CFMSE 1.5:  MannwhitneyuResult(statistic=952083.0, pvalue=0.0028885563448350316)\n"
     ]
    }
   ],
   "source": [
    "print('MSE 0.5: ', stats.mannwhitneyu(child['MSE_05'], adult['MSE_05']))\n",
    "print('MSE 1.0: ', stats.mannwhitneyu(child['MSE_10'], adult['MSE_10']))\n",
    "print('MSE 1.5: ', stats.mannwhitneyu(child['MSE_15'], adult['MSE_15']))\n",
    "print('CMSE 1.5: ', stats.mannwhitneyu(child['CMSE'], adult['CMSE']))\n",
    "print('CFMSE 1.5: ', stats.mannwhitneyu(child['CFMSE'], adult['CFMSE']))"
   ]
  },
  {
   "cell_type": "markdown",
   "metadata": {},
   "source": [
    "#### Elderly/Adult"
   ]
  },
  {
   "cell_type": "code",
   "execution_count": 6,
   "metadata": {},
   "outputs": [
    {
     "name": "stdout",
     "output_type": "stream",
     "text": [
      "MSE 0.5:  MannwhitneyuResult(statistic=1858781.0, pvalue=0.19276617293376053)\n",
      "MSE 1.0:  MannwhitneyuResult(statistic=1726151.0, pvalue=0.033410964629500634)\n",
      "MSE 1.5:  MannwhitneyuResult(statistic=1627646.0, pvalue=2.9499627838915995e-06)\n",
      "CMSE 1.5:  MannwhitneyuResult(statistic=1653961.0, pvalue=6.501877782762405e-05)\n",
      "CFMSE 1.5:  MannwhitneyuResult(statistic=1646981.0, pvalue=2.9889749689250537e-05)\n"
     ]
    }
   ],
   "source": [
    "print('MSE 0.5: ', stats.mannwhitneyu(elderly['MSE_05'], adult['MSE_05']))\n",
    "print('MSE 1.0: ', stats.mannwhitneyu(elderly['MSE_10'], adult['MSE_10']))\n",
    "print('MSE 1.5: ', stats.mannwhitneyu(elderly['MSE_15'], adult['MSE_15']))\n",
    "print('CMSE 1.5: ', stats.mannwhitneyu(elderly['CMSE'], adult['CMSE']))\n",
    "print('CFMSE 1.5: ', stats.mannwhitneyu(elderly['CFMSE'], adult['CFMSE']))"
   ]
  },
  {
   "cell_type": "markdown",
   "metadata": {},
   "source": [
    "#### Child/Adult one sided"
   ]
  },
  {
   "cell_type": "code",
   "execution_count": 7,
   "metadata": {},
   "outputs": [
    {
     "name": "stdout",
     "output_type": "stream",
     "text": [
      "MSE 0.5:  MannwhitneyuResult(statistic=876360.0, pvalue=0.4896615261963536)\n",
      "MSE 1.0:  MannwhitneyuResult(statistic=926909.0, pvalue=0.02288602913245965)\n",
      "MSE 1.5:  MannwhitneyuResult(statistic=949055.0, pvalue=0.002109846405314341)\n",
      "CMSE 1.5:  MannwhitneyuResult(statistic=976509.0, pvalue=4.2112809855401896e-05)\n",
      "CFMSE 1.5:  MannwhitneyuResult(statistic=952083.0, pvalue=0.0014442781724175158)\n"
     ]
    }
   ],
   "source": [
    "print('MSE 0.5: ', stats.mannwhitneyu(child['MSE_05'], adult['MSE_05'], alternative = 'greater'))\n",
    "print('MSE 1.0: ', stats.mannwhitneyu(child['MSE_10'], adult['MSE_10'], alternative = 'greater'))\n",
    "print('MSE 1.5: ', stats.mannwhitneyu(child['MSE_15'], adult['MSE_15'], alternative = 'greater'))\n",
    "print('CMSE 1.5: ', stats.mannwhitneyu(child['CMSE'], adult['CMSE'], alternative = 'greater'))\n",
    "print('CFMSE 1.5: ', stats.mannwhitneyu(child['CFMSE'], adult['CFMSE'], alternative = 'greater'))"
   ]
  },
  {
   "cell_type": "markdown",
   "metadata": {},
   "source": [
    "#### Elderly/Adult one sided"
   ]
  },
  {
   "cell_type": "code",
   "execution_count": 8,
   "metadata": {},
   "outputs": [
    {
     "name": "stdout",
     "output_type": "stream",
     "text": [
      "MSE 0.5:  MannwhitneyuResult(statistic=1858781.0, pvalue=0.09638308646688026)\n",
      "MSE 1.0:  MannwhitneyuResult(statistic=1726151.0, pvalue=0.9832955916577358)\n",
      "MSE 1.5:  MannwhitneyuResult(statistic=1627646.0, pvalue=0.999998525204418)\n",
      "CMSE 1.5:  MannwhitneyuResult(statistic=1653961.0, pvalue=0.9999674941581386)\n",
      "CFMSE 1.5:  MannwhitneyuResult(statistic=1646981.0, pvalue=0.9999850568223578)\n"
     ]
    }
   ],
   "source": [
    "print('MSE 0.5: ', stats.mannwhitneyu(elderly['MSE_05'], adult['MSE_05'], alternative = 'greater'))\n",
    "print('MSE 1.0: ', stats.mannwhitneyu(elderly['MSE_10'], adult['MSE_10'], alternative = 'greater'))\n",
    "print('MSE 1.5: ', stats.mannwhitneyu(elderly['MSE_15'], adult['MSE_15'], alternative = 'greater'))\n",
    "print('CMSE 1.5: ', stats.mannwhitneyu(elderly['CMSE'], adult['CMSE'], alternative = 'greater'))\n",
    "print('CFMSE 1.5: ', stats.mannwhitneyu(elderly['CFMSE'], adult['CFMSE'], alternative = 'greater'))"
   ]
  },
  {
   "cell_type": "markdown",
   "metadata": {},
   "source": [
    "### Mann-Whitney U Test - Gender"
   ]
  },
  {
   "cell_type": "code",
   "execution_count": 6,
   "metadata": {},
   "outputs": [
    {
     "name": "stdout",
     "output_type": "stream",
     "text": [
      "MSE 0.5:  MannwhitneyuResult(statistic=3372466.0, pvalue=0.009908270543187577)\n",
      "MSE 1.0:  MannwhitneyuResult(statistic=3368743.0, pvalue=0.012118593073980732)\n",
      "MSE 1.5:  MannwhitneyuResult(statistic=3340204.0, pvalue=0.048900551824891114)\n",
      "CMSE 1.5:  MannwhitneyuResult(statistic=3217433.0, pvalue=0.7262245821750553)\n",
      "CFMSE 1.5:  MannwhitneyuResult(statistic=3133618.0, pvalue=0.053144097761240086)\n"
     ]
    }
   ],
   "source": [
    "print('MSE 0.5: ', stats.mannwhitneyu(male['MSE_05'], female['MSE_05']))\n",
    "print('MSE 1.0: ', stats.mannwhitneyu(male['MSE_10'], female['MSE_10']))\n",
    "print('MSE 1.5: ', stats.mannwhitneyu(male['MSE_15'], female['MSE_15']))\n",
    "print('CMSE 1.5: ', stats.mannwhitneyu(male['CMSE'], female['CMSE']))\n",
    "print('CFMSE 1.5: ', stats.mannwhitneyu(male['CFMSE'], female['CFMSE']))"
   ]
  },
  {
   "cell_type": "markdown",
   "metadata": {},
   "source": [
    "### Mann-Whitney U Test - Gender one side"
   ]
  },
  {
   "cell_type": "code",
   "execution_count": 9,
   "metadata": {},
   "outputs": [
    {
     "name": "stdout",
     "output_type": "stream",
     "text": [
      "MSE 0.5:  MannwhitneyuResult(statistic=3372466.0, pvalue=0.004954135271593788)\n",
      "MSE 1.0:  MannwhitneyuResult(statistic=3368743.0, pvalue=0.006059296536990366)\n",
      "MSE 1.5:  MannwhitneyuResult(statistic=3340204.0, pvalue=0.024450275912445557)\n",
      "CMSE 1.5:  MannwhitneyuResult(statistic=3217433.0, pvalue=0.6368947982826025)\n",
      "CFMSE 1.5:  MannwhitneyuResult(statistic=3133618.0, pvalue=0.973429113178775)\n"
     ]
    }
   ],
   "source": [
    "print('MSE 0.5: ', stats.mannwhitneyu(male['MSE_05'], female['MSE_05'], alternative = 'greater'))\n",
    "print('MSE 1.0: ', stats.mannwhitneyu(male['MSE_10'], female['MSE_10'], alternative = 'greater'))\n",
    "print('MSE 1.5: ', stats.mannwhitneyu(male['MSE_15'], female['MSE_15'], alternative = 'greater'))\n",
    "print('CMSE 1.5: ', stats.mannwhitneyu(male['CMSE'], female['CMSE'], alternative = 'greater'))\n",
    "print('CFMSE 1.5: ', stats.mannwhitneyu(male['CFMSE'], female['CFMSE'], alternative = 'greater'))"
   ]
  },
  {
   "cell_type": "markdown",
   "metadata": {},
   "source": [
    "## Wasserstein distance"
   ]
  },
  {
   "cell_type": "markdown",
   "metadata": {},
   "source": [
    "#### child/all"
   ]
  },
  {
   "cell_type": "code",
   "execution_count": 3,
   "metadata": {},
   "outputs": [
    {
     "name": "stdout",
     "output_type": "stream",
     "text": [
      "MSE 0.5:  34.472683269688574\n",
      "MSE 1.0:  120.15085962567558\n",
      "MSE 1.5:  362.6494159992605\n",
      "CMSE 1.5:  312.7022660324565\n",
      "CFMSE 1.5:  1043.4406714529173\n"
     ]
    }
   ],
   "source": [
    "print('MSE 0.5: ', stats.wasserstein_distance(child['MSE_05'], all['MSE_05']))\n",
    "print('MSE 1.0: ', stats.wasserstein_distance(child['MSE_10'], all['MSE_10']))\n",
    "print('MSE 1.5: ', stats.wasserstein_distance(child['MSE_15'], all['MSE_15']))\n",
    "print('CMSE 1.5: ', stats.wasserstein_distance(child['CMSE'], all['CMSE']))\n",
    "print('CFMSE 1.5: ', stats.wasserstein_distance(child['CFMSE'], all['CFMSE']))"
   ]
  },
  {
   "cell_type": "markdown",
   "metadata": {},
   "source": [
    "#### adult/all"
   ]
  },
  {
   "cell_type": "code",
   "execution_count": 4,
   "metadata": {},
   "outputs": [
    {
     "name": "stdout",
     "output_type": "stream",
     "text": [
      "MSE 0.5:  30.959424903360244\n",
      "MSE 1.0:  66.95644938390552\n",
      "MSE 1.5:  160.05805026832746\n",
      "CMSE 1.5:  114.34789863419158\n",
      "CFMSE 1.5:  404.246865982526\n"
     ]
    }
   ],
   "source": [
    "print('MSE 0.5: ', stats.wasserstein_distance(adult['MSE_05'], all['MSE_05']))\n",
    "print('MSE 1.0: ', stats.wasserstein_distance(adult['MSE_10'], all['MSE_10']))\n",
    "print('MSE 1.5: ', stats.wasserstein_distance(adult['MSE_15'], all['MSE_15']))\n",
    "print('CMSE 1.5: ', stats.wasserstein_distance(adult['CMSE'], all['CMSE']))\n",
    "print('CFMSE 1.5: ', stats.wasserstein_distance(adult['CFMSE'], all['CFMSE']))"
   ]
  },
  {
   "cell_type": "markdown",
   "metadata": {},
   "source": [
    "#### elderly/all"
   ]
  },
  {
   "cell_type": "code",
   "execution_count": 5,
   "metadata": {},
   "outputs": [
    {
     "name": "stdout",
     "output_type": "stream",
     "text": [
      "MSE 0.5:  27.064790090280297\n",
      "MSE 1.0:  50.83501426591701\n",
      "MSE 1.5:  105.93036866805951\n",
      "CMSE 1.5:  82.24379299919218\n",
      "CFMSE 1.5:  265.65437850121623\n"
     ]
    }
   ],
   "source": [
    "print('MSE 0.5: ', stats.wasserstein_distance(elderly['MSE_05'], all['MSE_05']))\n",
    "print('MSE 1.0: ', stats.wasserstein_distance(elderly['MSE_10'], all['MSE_10']))\n",
    "print('MSE 1.5: ', stats.wasserstein_distance(elderly['MSE_15'], all['MSE_15']))\n",
    "print('CMSE 1.5: ', stats.wasserstein_distance(elderly['CMSE'], all['CMSE']))\n",
    "print('CFMSE 1.5: ', stats.wasserstein_distance(elderly['CFMSE'], all['CFMSE']))"
   ]
  },
  {
   "cell_type": "markdown",
   "metadata": {},
   "source": [
    "#### male/all"
   ]
  },
  {
   "cell_type": "code",
   "execution_count": 6,
   "metadata": {},
   "outputs": [
    {
     "name": "stdout",
     "output_type": "stream",
     "text": [
      "MSE 0.5:  38.90756673403364\n",
      "MSE 1.0:  70.03057087001416\n",
      "MSE 1.5:  143.9253636378516\n",
      "CMSE 1.5:  93.8969975152686\n",
      "CFMSE 1.5:  299.6636225465923\n"
     ]
    }
   ],
   "source": [
    "print('MSE 0.5: ', stats.wasserstein_distance(male['MSE_05'], all['MSE_05']))\n",
    "print('MSE 1.0: ', stats.wasserstein_distance(male['MSE_10'], all['MSE_10']))\n",
    "print('MSE 1.5: ', stats.wasserstein_distance(male['MSE_15'], all['MSE_15']))\n",
    "print('CMSE 1.5: ', stats.wasserstein_distance(male['CMSE'], all['CMSE']))\n",
    "print('CFMSE 1.5: ', stats.wasserstein_distance(male['CFMSE'], all['CFMSE']))"
   ]
  },
  {
   "cell_type": "markdown",
   "metadata": {},
   "source": [
    "#### female/all"
   ]
  },
  {
   "cell_type": "code",
   "execution_count": 7,
   "metadata": {},
   "outputs": [
    {
     "name": "stdout",
     "output_type": "stream",
     "text": [
      "MSE 0.5:  25.22161441680444\n",
      "MSE 1.0:  63.33137610997232\n",
      "MSE 1.5:  175.7118297220709\n",
      "CMSE 1.5:  139.1147868539418\n",
      "CFMSE 1.5:  500.04432142252597\n"
     ]
    }
   ],
   "source": [
    "print('MSE 0.5: ', stats.wasserstein_distance(female['MSE_05'], all['MSE_05']))\n",
    "print('MSE 1.0: ', stats.wasserstein_distance(female['MSE_10'], all['MSE_10']))\n",
    "print('MSE 1.5: ', stats.wasserstein_distance(female['MSE_15'], all['MSE_15']))\n",
    "print('CMSE 1.5: ', stats.wasserstein_distance(female['CMSE'], all['CMSE']))\n",
    "print('CFMSE 1.5: ', stats.wasserstein_distance(female['CFMSE'], all['CFMSE']))"
   ]
  },
  {
   "cell_type": "markdown",
   "metadata": {},
   "source": [
    "#### child/labeled"
   ]
  },
  {
   "cell_type": "code",
   "execution_count": 7,
   "metadata": {},
   "outputs": [
    {
     "name": "stdout",
     "output_type": "stream",
     "text": [
      "MSE 0.5:  7.0083207456812975\n",
      "MSE 1.0:  54.76062821575553\n",
      "MSE 1.5:  200.93633046489654\n",
      "CMSE 1.5:  193.3000959753332\n",
      "CFMSE 1.5:  636.6483197366543\n"
     ]
    }
   ],
   "source": [
    "print('MSE 0.5: ', stats.wasserstein_distance(child['MSE_05'], labeled['MSE_05']))\n",
    "print('MSE 1.0: ', stats.wasserstein_distance(child['MSE_10'], labeled['MSE_10']))\n",
    "print('MSE 1.5: ', stats.wasserstein_distance(child['MSE_15'], labeled['MSE_15']))\n",
    "print('CMSE 1.5: ', stats.wasserstein_distance(child['CMSE'], labeled['CMSE']))\n",
    "print('CFMSE 1.5: ', stats.wasserstein_distance(child['CFMSE'], labeled['CFMSE']))"
   ]
  },
  {
   "cell_type": "markdown",
   "metadata": {},
   "source": [
    "#### adult/labeled"
   ]
  },
  {
   "cell_type": "code",
   "execution_count": 8,
   "metadata": {},
   "outputs": [
    {
     "name": "stdout",
     "output_type": "stream",
     "text": [
      "MSE 0.5:  1.925304816744479\n",
      "MSE 1.0:  5.053859964472047\n",
      "MSE 1.5:  26.49429183703033\n",
      "CMSE 1.5:  23.068308882934623\n",
      "CFMSE 1.5:  101.70510193989391\n"
     ]
    }
   ],
   "source": [
    "print('MSE 0.5: ', stats.wasserstein_distance(adult['MSE_05'], labeled['MSE_05']))\n",
    "print('MSE 1.0: ', stats.wasserstein_distance(adult['MSE_10'], labeled['MSE_10']))\n",
    "print('MSE 1.5: ', stats.wasserstein_distance(adult['MSE_15'], labeled['MSE_15']))\n",
    "print('CMSE 1.5: ', stats.wasserstein_distance(adult['CMSE'], labeled['CMSE']))\n",
    "print('CFMSE 1.5: ', stats.wasserstein_distance(adult['CFMSE'], labeled['CFMSE']))"
   ]
  },
  {
   "cell_type": "markdown",
   "metadata": {},
   "source": [
    "#### elderly/labeled"
   ]
  },
  {
   "cell_type": "code",
   "execution_count": 9,
   "metadata": {},
   "outputs": [
    {
     "name": "stdout",
     "output_type": "stream",
     "text": [
      "MSE 0.5:  10.56997614396352\n",
      "MSE 1.0:  54.30008967106139\n",
      "MSE 1.5:  179.71780664150666\n",
      "CMSE 1.5:  162.2988273818544\n",
      "CFMSE 1.5:  623.8470975408682\n"
     ]
    }
   ],
   "source": [
    "print('MSE 0.5: ', stats.wasserstein_distance(elderly['MSE_05'], labeled['MSE_05']))\n",
    "print('MSE 1.0: ', stats.wasserstein_distance(elderly['MSE_10'], labeled['MSE_10']))\n",
    "print('MSE 1.5: ', stats.wasserstein_distance(elderly['MSE_15'], labeled['MSE_15']))\n",
    "print('CMSE 1.5: ', stats.wasserstein_distance(elderly['CMSE'], labeled['CMSE']))\n",
    "print('CFMSE 1.5: ', stats.wasserstein_distance(elderly['CFMSE'], labeled['CFMSE']))"
   ]
  },
  {
   "cell_type": "markdown",
   "metadata": {},
   "source": [
    "#### male/labeled"
   ]
  },
  {
   "cell_type": "code",
   "execution_count": 10,
   "metadata": {},
   "outputs": [
    {
     "name": "stdout",
     "output_type": "stream",
     "text": [
      "MSE 0.5:  8.875031173696861\n",
      "MSE 1.0:  16.412468303489234\n",
      "MSE 1.5:  48.31739854197358\n",
      "CMSE 1.5:  40.79684512158442\n",
      "CFMSE 1.5:  154.6849965659205\n"
     ]
    }
   ],
   "source": [
    "print('MSE 0.5: ', stats.wasserstein_distance(male['MSE_05'], labeled['MSE_05']))\n",
    "print('MSE 1.0: ', stats.wasserstein_distance(male['MSE_10'], labeled['MSE_10']))\n",
    "print('MSE 1.5: ', stats.wasserstein_distance(male['MSE_15'], labeled['MSE_15']))\n",
    "print('CMSE 1.5: ', stats.wasserstein_distance(male['CMSE'], labeled['CMSE']))\n",
    "print('CFMSE 1.5: ', stats.wasserstein_distance(male['CFMSE'], labeled['CFMSE']))"
   ]
  },
  {
   "cell_type": "markdown",
   "metadata": {},
   "source": [
    "#### female/labeled"
   ]
  },
  {
   "cell_type": "code",
   "execution_count": 11,
   "metadata": {},
   "outputs": [
    {
     "name": "stdout",
     "output_type": "stream",
     "text": [
      "MSE 0.5:  5.903832149509149\n",
      "MSE 1.0:  13.55234670278358\n",
      "MSE 1.5:  32.16503460539547\n",
      "CMSE 1.5:  29.62748215250794\n",
      "CFMSE 1.5:  112.2491720063384\n"
     ]
    }
   ],
   "source": [
    "print('MSE 0.5: ', stats.wasserstein_distance(female['MSE_05'], labeled['MSE_05']))\n",
    "print('MSE 1.0: ', stats.wasserstein_distance(female['MSE_10'], labeled['MSE_10']))\n",
    "print('MSE 1.5: ', stats.wasserstein_distance(female['MSE_15'], labeled['MSE_15']))\n",
    "print('CMSE 1.5: ', stats.wasserstein_distance(female['CMSE'], labeled['CMSE']))\n",
    "print('CFMSE 1.5: ', stats.wasserstein_distance(female['CFMSE'], labeled['CFMSE']))"
   ]
  },
  {
   "cell_type": "markdown",
   "metadata": {},
   "source": [
    "#### child/adult"
   ]
  },
  {
   "cell_type": "code",
   "execution_count": 12,
   "metadata": {},
   "outputs": [
    {
     "name": "stdout",
     "output_type": "stream",
     "text": [
      "MSE 0.5:  7.279312306411591\n",
      "MSE 1.0:  53.683482964041794\n",
      "MSE 1.5:  204.8755128476464\n",
      "CMSE 1.5:  200.3607099227521\n",
      "CFMSE 1.5:  648.5149173650084\n"
     ]
    }
   ],
   "source": [
    "print('MSE 0.5: ', stats.wasserstein_distance(child['MSE_05'], adult['MSE_05']))\n",
    "print('MSE 1.0: ', stats.wasserstein_distance(child['MSE_10'], adult['MSE_10']))\n",
    "print('MSE 1.5: ', stats.wasserstein_distance(child['MSE_15'], adult['MSE_15']))\n",
    "print('CMSE 1.5: ', stats.wasserstein_distance(child['CMSE'], adult['CMSE']))\n",
    "print('CFMSE 1.5: ', stats.wasserstein_distance(child['CFMSE'], adult['CFMSE']))"
   ]
  },
  {
   "cell_type": "markdown",
   "metadata": {},
   "source": [
    "#### elderly/adult"
   ]
  },
  {
   "cell_type": "code",
   "execution_count": 14,
   "metadata": {},
   "outputs": [
    {
     "name": "stdout",
     "output_type": "stream",
     "text": [
      "MSE 0.5:  11.939467425549111\n",
      "MSE 1.0:  55.14627253026758\n",
      "MSE 1.5:  175.71837766502725\n",
      "CMSE 1.5:  155.2147389249991\n",
      "CFMSE 1.5:  596.2687611936476\n"
     ]
    }
   ],
   "source": [
    "print('MSE 0.5: ', stats.wasserstein_distance(elderly['MSE_05'], adult['MSE_05']))\n",
    "print('MSE 1.0: ', stats.wasserstein_distance(elderly['MSE_10'], adult['MSE_10']))\n",
    "print('MSE 1.5: ', stats.wasserstein_distance(elderly['MSE_15'], adult['MSE_15']))\n",
    "print('CMSE 1.5: ', stats.wasserstein_distance(elderly['CMSE'], adult['CMSE']))\n",
    "print('CFMSE 1.5: ', stats.wasserstein_distance(elderly['CFMSE'], adult['CFMSE']))"
   ]
  },
  {
   "cell_type": "markdown",
   "metadata": {},
   "source": [
    "#### male/female"
   ]
  },
  {
   "cell_type": "code",
   "execution_count": 15,
   "metadata": {},
   "outputs": [
    {
     "name": "stdout",
     "output_type": "stream",
     "text": [
      "MSE 0.5:  14.374076790880506\n",
      "MSE 1.0:  26.83519182185047\n",
      "MSE 1.5:  75.69549526534854\n",
      "CMSE 1.5:  62.50471999020515\n",
      "CFMSE 1.5:  235.7517082907675\n"
     ]
    }
   ],
   "source": [
    "print('MSE 0.5: ', stats.wasserstein_distance(male['MSE_05'], female['MSE_05']))\n",
    "print('MSE 1.0: ', stats.wasserstein_distance(male['MSE_10'], female['MSE_10']))\n",
    "print('MSE 1.5: ', stats.wasserstein_distance(male['MSE_15'], female['MSE_15']))\n",
    "print('CMSE 1.5: ', stats.wasserstein_distance(male['CMSE'], female['CMSE']))\n",
    "print('CFMSE 1.5: ', stats.wasserstein_distance(male['CFMSE'], female['CFMSE']))"
   ]
  }
 ],
 "metadata": {
  "kernelspec": {
   "display_name": "Python 3.9.12 ('base')",
   "language": "python",
   "name": "python3"
  },
  "language_info": {
   "codemirror_mode": {
    "name": "ipython",
    "version": 3
   },
   "file_extension": ".py",
   "mimetype": "text/x-python",
   "name": "python",
   "nbconvert_exporter": "python",
   "pygments_lexer": "ipython3",
   "version": "3.9.12"
  },
  "orig_nbformat": 4,
  "vscode": {
   "interpreter": {
    "hash": "db33168a371558177f016f3dcfd823d58450a3b104f322b87989a5f237dccb9b"
   }
  }
 },
 "nbformat": 4,
 "nbformat_minor": 2
}
