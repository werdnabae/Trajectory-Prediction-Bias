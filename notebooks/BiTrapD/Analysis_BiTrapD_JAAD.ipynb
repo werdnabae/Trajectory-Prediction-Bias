{
 "cells": [
  {
   "cell_type": "code",
   "execution_count": 1,
   "metadata": {},
   "outputs": [],
   "source": [
    "import os\n",
    "import numpy as np\n",
    "import pickle as pkl\n",
    "from matplotlib import pyplot as plt\n",
    "from statistics import mean\n",
    "import pandas as pd\n",
    "from scipy import stats\n",
    "from fitter import Fitter, get_common_distributions, get_distributions"
   ]
  },
  {
   "cell_type": "code",
   "execution_count": 2,
   "metadata": {},
   "outputs": [],
   "source": [
    "child = open('BiTrapD_JAAD_child_test.pkl', 'rb')\n",
    "child = pkl.load(child)\n",
    "\n",
    "adult = open('BiTrapD_JAAD_adult_test.pkl', 'rb')\n",
    "adult = pkl.load(adult)\n",
    "\n",
    "elderly = open('BiTrapD_JAAD_elderly_test.pkl', 'rb')\n",
    "elderly = pkl.load(elderly)\n",
    "\n",
    "male = open('BiTrapD_JAAD_male_test.pkl', 'rb')\n",
    "male = pkl.load(male)\n",
    "\n",
    "female = open('BiTrapD_JAAD_female_test.pkl', 'rb')\n",
    "female = pkl.load(female)\n",
    "\n",
    "all = open('BiTrapD_JAAD_all_test.pkl', 'rb')\n",
    "all = pkl.load(all)\n",
    "\n",
    "labeled = open('BiTrapD_JAAD_labeled_test.pkl', 'rb')\n",
    "labeled = pkl.load(labeled)"
   ]
  },
  {
   "cell_type": "markdown",
   "metadata": {},
   "source": [
    "### Means"
   ]
  },
  {
   "cell_type": "code",
   "execution_count": 7,
   "metadata": {},
   "outputs": [
    {
     "name": "stdout",
     "output_type": "stream",
     "text": [
      "MSE 0.5:  185.6364888526948\n",
      "MSE 0.5:  182.95059703400142\n",
      "MSE 0.5:  147.32479055712415\n",
      "MSE 0.5:  190.85216689374136\n",
      "MSE 0.5:  171.3642208795959\n"
     ]
    }
   ],
   "source": [
    "print('MSE 0.5: ', mean(child['ADE_05']))\n",
    "print('MSE 0.5: ', mean(adult['ADE_05']))\n",
    "print('MSE 0.5: ', mean(elderly['ADE_05']))\n",
    "print('MSE 0.5: ', mean(male['ADE_05']))\n",
    "print('MSE 0.5: ', mean(female['ADE_05']))"
   ]
  },
  {
   "cell_type": "markdown",
   "metadata": {},
   "source": [
    "### Kruskal Wallis Test - Age"
   ]
  },
  {
   "cell_type": "code",
   "execution_count": 3,
   "metadata": {},
   "outputs": [
    {
     "name": "stdout",
     "output_type": "stream",
     "text": [
      "MSE 0.5:  KruskalResult(statistic=0.2310589139106014, pvalue=0.8908943288161328)\n",
      "MSE 1.0:  KruskalResult(statistic=20.904236322125143, pvalue=2.8887021086808413e-05)\n",
      "MSE 1.5:  KruskalResult(statistic=36.16723527222348, pvalue=1.4008274641454795e-08)\n",
      "CMSE 1.5:  KruskalResult(statistic=37.28910148923205, pvalue=7.994190515607957e-09)\n",
      "CFMSE 1.5:  KruskalResult(statistic=30.859084473204348, pvalue=1.990833538003808e-07)\n"
     ]
    }
   ],
   "source": [
    "print('MSE 0.5: ', stats.kruskal(child['ADE_05'], adult['ADE_05'], elderly['ADE_05']))\n",
    "print('MSE 1.0: ', stats.kruskal(child['ADE_10'], adult['ADE_10'], elderly['ADE_10']))\n",
    "print('MSE 1.5: ', stats.kruskal(child['ADE_15'], adult['ADE_15'], elderly['ADE_15']))\n",
    "print('CMSE 1.5: ', stats.kruskal(child['C-ADE(1.5)'], adult['C-ADE(1.5)'], elderly['C-ADE(1.5)']))\n",
    "print('CFMSE 1.5: ', stats.kruskal(child['C_FDE(1.5)'], adult['C_FDE(1.5)'], elderly['C_FDE(1.5)']))"
   ]
  },
  {
   "cell_type": "markdown",
   "metadata": {},
   "source": [
    "## Mann-Whitney U Test - Age"
   ]
  },
  {
   "cell_type": "markdown",
   "metadata": {},
   "source": [
    "#### Child/Adult"
   ]
  },
  {
   "cell_type": "code",
   "execution_count": 4,
   "metadata": {},
   "outputs": [
    {
     "name": "stdout",
     "output_type": "stream",
     "text": [
      "MSE 0.5:  MannwhitneyuResult(statistic=866470.0, pvalue=0.7190080567237671)\n",
      "MSE 1.0:  MannwhitneyuResult(statistic=924893.0, pvalue=0.05500219728556094)\n",
      "MSE 1.5:  MannwhitneyuResult(statistic=948402.0, pvalue=0.004571326709366012)\n",
      "CMSE 1.5:  MannwhitneyuResult(statistic=966921.0, pvalue=0.0003735692184521946)\n",
      "CFMSE 1.5:  MannwhitneyuResult(statistic=960872.0, pvalue=0.0008932530706521469)\n"
     ]
    }
   ],
   "source": [
    "print('MSE 0.5: ', stats.mannwhitneyu(child['ADE_05'], adult['ADE_05']))\n",
    "print('MSE 1.0: ', stats.mannwhitneyu(child['ADE_10'], adult['ADE_10']))\n",
    "print('MSE 1.5: ', stats.mannwhitneyu(child['ADE_15'], adult['ADE_15']))\n",
    "print('CMSE 1.5: ', stats.mannwhitneyu(child['C-ADE(1.5)'], adult['C-ADE(1.5)']))\n",
    "print('CFMSE 1.5: ', stats.mannwhitneyu(child['C_FDE(1.5)'], adult['C_FDE(1.5)']))"
   ]
  },
  {
   "cell_type": "markdown",
   "metadata": {},
   "source": [
    "#### Elderly/Adult"
   ]
  },
  {
   "cell_type": "code",
   "execution_count": 5,
   "metadata": {},
   "outputs": [
    {
     "name": "stdout",
     "output_type": "stream",
     "text": [
      "MSE 0.5:  MannwhitneyuResult(statistic=1794521.0, pvalue=0.7194577846859527)\n",
      "MSE 1.0:  MannwhitneyuResult(statistic=1658916.0, pvalue=0.00011077697975111964)\n",
      "MSE 1.5:  MannwhitneyuResult(statistic=1619172.0, pvalue=9.911078733122773e-07)\n",
      "CMSE 1.5:  MannwhitneyuResult(statistic=1637290.0, pvalue=9.648845577129215e-06)\n",
      "CFMSE 1.5:  MannwhitneyuResult(statistic=1655866.0, pvalue=7.99484852549743e-05)\n"
     ]
    }
   ],
   "source": [
    "print('MSE 0.5: ', stats.mannwhitneyu(elderly['ADE_05'], adult['ADE_05']))\n",
    "print('MSE 1.0: ', stats.mannwhitneyu(elderly['ADE_10'], adult['ADE_10']))\n",
    "print('MSE 1.5: ', stats.mannwhitneyu(elderly['ADE_15'], adult['ADE_15']))\n",
    "print('CMSE 1.5: ', stats.mannwhitneyu(elderly['C-ADE(1.5)'], adult['C-ADE(1.5)']))\n",
    "print('CFMSE 1.5: ', stats.mannwhitneyu(elderly['C_FDE(1.5)'], adult['C_FDE(1.5)']))"
   ]
  },
  {
   "cell_type": "markdown",
   "metadata": {},
   "source": [
    "#### Child/Adult one sided"
   ]
  },
  {
   "cell_type": "code",
   "execution_count": 4,
   "metadata": {},
   "outputs": [
    {
     "name": "stdout",
     "output_type": "stream",
     "text": [
      "MSE 0.5:  MannwhitneyuResult(statistic=866470.0, pvalue=0.6405105563672558)\n",
      "MSE 1.0:  MannwhitneyuResult(statistic=924893.0, pvalue=0.02750109864278047)\n",
      "MSE 1.5:  MannwhitneyuResult(statistic=948402.0, pvalue=0.002285663354683006)\n",
      "CMSE 1.5:  MannwhitneyuResult(statistic=966921.0, pvalue=0.0001867846092260973)\n",
      "CFMSE 1.5:  MannwhitneyuResult(statistic=960872.0, pvalue=0.00044662653532607344)\n"
     ]
    }
   ],
   "source": [
    "print('MSE 0.5: ', stats.mannwhitneyu(child['ADE_05'], adult['ADE_05'], alternative= 'greater'))\n",
    "print('MSE 1.0: ', stats.mannwhitneyu(child['ADE_10'], adult['ADE_10'], alternative= 'greater'))\n",
    "print('MSE 1.5: ', stats.mannwhitneyu(child['ADE_15'], adult['ADE_15'], alternative= 'greater'))\n",
    "print('CMSE 1.5: ', stats.mannwhitneyu(child['C-ADE(1.5)'], adult['C-ADE(1.5)'], alternative= 'greater'))\n",
    "print('CFMSE 1.5: ', stats.mannwhitneyu(child['C_FDE(1.5)'], adult['C_FDE(1.5)'], alternative= 'greater'))"
   ]
  },
  {
   "cell_type": "markdown",
   "metadata": {},
   "source": [
    "#### Elderly/Adult one sided"
   ]
  },
  {
   "cell_type": "code",
   "execution_count": 5,
   "metadata": {},
   "outputs": [
    {
     "name": "stdout",
     "output_type": "stream",
     "text": [
      "MSE 0.5:  MannwhitneyuResult(statistic=1794521.0, pvalue=0.6402807791122629)\n",
      "MSE 1.0:  MannwhitneyuResult(statistic=1658916.0, pvalue=0.9999446173787916)\n",
      "MSE 1.5:  MannwhitneyuResult(statistic=1619172.0, pvalue=0.9999995045111992)\n",
      "CMSE 1.5:  MannwhitneyuResult(statistic=1637290.0, pvalue=0.9999951761550462)\n",
      "CFMSE 1.5:  MannwhitneyuResult(statistic=1655866.0, pvalue=0.9999600300703961)\n"
     ]
    }
   ],
   "source": [
    "print('MSE 0.5: ', stats.mannwhitneyu(elderly['ADE_05'], adult['ADE_05'], alternative= 'greater'))\n",
    "print('MSE 1.0: ', stats.mannwhitneyu(elderly['ADE_10'], adult['ADE_10'], alternative= 'greater'))\n",
    "print('MSE 1.5: ', stats.mannwhitneyu(elderly['ADE_15'], adult['ADE_15'], alternative= 'greater'))\n",
    "print('CMSE 1.5: ', stats.mannwhitneyu(elderly['C-ADE(1.5)'], adult['C-ADE(1.5)'], alternative= 'greater'))\n",
    "print('CFMSE 1.5: ', stats.mannwhitneyu(elderly['C_FDE(1.5)'], adult['C_FDE(1.5)'], alternative= 'greater'))"
   ]
  },
  {
   "cell_type": "markdown",
   "metadata": {},
   "source": [
    "## Mann-Whitney U Test - Gender"
   ]
  },
  {
   "cell_type": "code",
   "execution_count": 6,
   "metadata": {},
   "outputs": [
    {
     "name": "stdout",
     "output_type": "stream",
     "text": [
      "MSE 0.5:  MannwhitneyuResult(statistic=3360796.0, pvalue=0.018347878391700212)\n",
      "MSE 1.0:  MannwhitneyuResult(statistic=3321077.0, pvalue=0.10781914357596545)\n",
      "MSE 1.5:  MannwhitneyuResult(statistic=3277596.0, pvalue=0.4315479508522959)\n",
      "CMSE 1.5:  MannwhitneyuResult(statistic=3217790.0, pvalue=0.7312923530232113)\n",
      "CFMSE 1.5:  MannwhitneyuResult(statistic=3201362.0, pvalue=0.513242810762239)\n"
     ]
    }
   ],
   "source": [
    "print('MSE 0.5: ', stats.mannwhitneyu(male['ADE_05'], female['ADE_05']))\n",
    "print('MSE 1.0: ', stats.mannwhitneyu(male['ADE_10'], female['ADE_10']))\n",
    "print('MSE 1.5: ', stats.mannwhitneyu(male['ADE_15'], female['ADE_15']))\n",
    "print('CMSE 1.5: ', stats.mannwhitneyu(male['C-ADE(1.5)'], female['C-ADE(1.5)']))\n",
    "print('CFMSE 1.5: ', stats.mannwhitneyu(male['C_FDE(1.5)'], female['C_FDE(1.5)']))"
   ]
  },
  {
   "cell_type": "code",
   "execution_count": 7,
   "metadata": {},
   "outputs": [
    {
     "name": "stdout",
     "output_type": "stream",
     "text": [
      "MSE 0.5:  MannwhitneyuResult(statistic=3360796.0, pvalue=0.009173939195850106)\n",
      "MSE 1.0:  MannwhitneyuResult(statistic=3321077.0, pvalue=0.053909571787982724)\n",
      "MSE 1.5:  MannwhitneyuResult(statistic=3277596.0, pvalue=0.21577397542614796)\n",
      "CMSE 1.5:  MannwhitneyuResult(statistic=3217790.0, pvalue=0.6343609294609607)\n",
      "CFMSE 1.5:  MannwhitneyuResult(statistic=3201362.0, pvalue=0.7433846817191212)\n"
     ]
    }
   ],
   "source": [
    "print('MSE 0.5: ', stats.mannwhitneyu(male['ADE_05'], female['ADE_05'], alternative= 'greater'))\n",
    "print('MSE 1.0: ', stats.mannwhitneyu(male['ADE_10'], female['ADE_10'], alternative= 'greater'))\n",
    "print('MSE 1.5: ', stats.mannwhitneyu(male['ADE_15'], female['ADE_15'], alternative= 'greater'))\n",
    "print('CMSE 1.5: ', stats.mannwhitneyu(male['C-ADE(1.5)'], female['C-ADE(1.5)'], alternative= 'greater'))\n",
    "print('CFMSE 1.5: ', stats.mannwhitneyu(male['C_FDE(1.5)'], female['C_FDE(1.5)'], alternative= 'greater'))"
   ]
  },
  {
   "cell_type": "markdown",
   "metadata": {},
   "source": [
    "## Distribution Fit"
   ]
  },
  {
   "cell_type": "code",
   "execution_count": 8,
   "metadata": {},
   "outputs": [],
   "source": [
    "for error in all:\n",
    "    all[error] = np.array(all[error])\n",
    "for error in child:\n",
    "    child[error] = np.array(child[error])\n",
    "for error in adult:\n",
    "    adult[error] = np.array(adult[error])\n",
    "for error in elderly:\n",
    "    elderly[error] = np.array(elderly[error])\n",
    "for error in male:\n",
    "    male[error] = np.array(male[error])"
   ]
  },
  {
   "cell_type": "code",
   "execution_count": 9,
   "metadata": {},
   "outputs": [],
   "source": [
    "distribution1 = ['cauchy', 'chi2', 'expon', 'exponpow']\n",
    "distribution2 = ['lognorm', 'powerlaw', 'rayleigh', 'gamma']"
   ]
  },
  {
   "cell_type": "code",
   "execution_count": 11,
   "metadata": {},
   "outputs": [
    {
     "data": {
      "text/html": [
       "<div>\n",
       "<style scoped>\n",
       "    .dataframe tbody tr th:only-of-type {\n",
       "        vertical-align: middle;\n",
       "    }\n",
       "\n",
       "    .dataframe tbody tr th {\n",
       "        vertical-align: top;\n",
       "    }\n",
       "\n",
       "    .dataframe thead th {\n",
       "        text-align: right;\n",
       "    }\n",
       "</style>\n",
       "<table border=\"1\" class=\"dataframe\">\n",
       "  <thead>\n",
       "    <tr style=\"text-align: right;\">\n",
       "      <th></th>\n",
       "      <th>sumsquare_error</th>\n",
       "      <th>aic</th>\n",
       "      <th>bic</th>\n",
       "      <th>kl_div</th>\n",
       "    </tr>\n",
       "  </thead>\n",
       "  <tbody>\n",
       "    <tr>\n",
       "      <th>expon</th>\n",
       "      <td>1.582104e-08</td>\n",
       "      <td>14784.192990</td>\n",
       "      <td>-374389.100889</td>\n",
       "      <td>inf</td>\n",
       "    </tr>\n",
       "    <tr>\n",
       "      <th>chi2</th>\n",
       "      <td>1.363846e-07</td>\n",
       "      <td>3529.067942</td>\n",
       "      <td>-345031.598208</td>\n",
       "      <td>inf</td>\n",
       "    </tr>\n",
       "    <tr>\n",
       "      <th>exponpow</th>\n",
       "      <td>1.533155e-07</td>\n",
       "      <td>2863.421761</td>\n",
       "      <td>-343437.332311</td>\n",
       "      <td>inf</td>\n",
       "    </tr>\n",
       "    <tr>\n",
       "      <th>cauchy</th>\n",
       "      <td>1.777588e-07</td>\n",
       "      <td>3610.747157</td>\n",
       "      <td>-341431.462521</td>\n",
       "      <td>inf</td>\n",
       "    </tr>\n",
       "  </tbody>\n",
       "</table>\n",
       "</div>"
      ],
      "text/plain": [
       "          sumsquare_error           aic            bic  kl_div\n",
       "expon        1.582104e-08  14784.192990 -374389.100889     inf\n",
       "chi2         1.363846e-07   3529.067942 -345031.598208     inf\n",
       "exponpow     1.533155e-07   2863.421761 -343437.332311     inf\n",
       "cauchy       1.777588e-07   3610.747157 -341431.462521     inf"
      ]
     },
     "execution_count": 11,
     "metadata": {},
     "output_type": "execute_result"
    },
    {
     "data": {
      "image/png": "[encoded data removed]",
      "text/plain": [
       "<Figure size 432x288 with 1 Axes>"
      ]
     },
     "metadata": {
      "needs_background": "light"
     },
     "output_type": "display_data"
    }
   ],
   "source": [
    "f = Fitter(all['ADE_15'],\n",
    "           distributions = distribution1)\n",
    "f.fit()\n",
    "f.summary()"
   ]
  },
  {
   "cell_type": "code",
   "execution_count": 13,
   "metadata": {},
   "outputs": [
    {
     "data": {
      "text/html": [
       "<div>\n",
       "<style scoped>\n",
       "    .dataframe tbody tr th:only-of-type {\n",
       "        vertical-align: middle;\n",
       "    }\n",
       "\n",
       "    .dataframe tbody tr th {\n",
       "        vertical-align: top;\n",
       "    }\n",
       "\n",
       "    .dataframe thead th {\n",
       "        text-align: right;\n",
       "    }\n",
       "</style>\n",
       "<table border=\"1\" class=\"dataframe\">\n",
       "  <thead>\n",
       "    <tr style=\"text-align: right;\">\n",
       "      <th></th>\n",
       "      <th>sumsquare_error</th>\n",
       "      <th>aic</th>\n",
       "      <th>bic</th>\n",
       "      <th>kl_div</th>\n",
       "    </tr>\n",
       "  </thead>\n",
       "  <tbody>\n",
       "    <tr>\n",
       "      <th>lognorm</th>\n",
       "      <td>1.048374e-07</td>\n",
       "      <td>3.416220e+03</td>\n",
       "      <td>-348615.640962</td>\n",
       "      <td>inf</td>\n",
       "    </tr>\n",
       "    <tr>\n",
       "      <th>rayleigh</th>\n",
       "      <td>1.684780e-07</td>\n",
       "      <td>4.700364e+04</td>\n",
       "      <td>-342162.007252</td>\n",
       "      <td>inf</td>\n",
       "    </tr>\n",
       "    <tr>\n",
       "      <th>powerlaw</th>\n",
       "      <td>2.028544e-07</td>\n",
       "      <td>2.637750e+03</td>\n",
       "      <td>-339622.743787</td>\n",
       "      <td>inf</td>\n",
       "    </tr>\n",
       "    <tr>\n",
       "      <th>gamma</th>\n",
       "      <td>2.804479e-07</td>\n",
       "      <td>3.779437e+06</td>\n",
       "      <td>-335209.933329</td>\n",
       "      <td>0.160742</td>\n",
       "    </tr>\n",
       "  </tbody>\n",
       "</table>\n",
       "</div>"
      ],
      "text/plain": [
       "          sumsquare_error           aic            bic    kl_div\n",
       "lognorm      1.048374e-07  3.416220e+03 -348615.640962       inf\n",
       "rayleigh     1.684780e-07  4.700364e+04 -342162.007252       inf\n",
       "powerlaw     2.028544e-07  2.637750e+03 -339622.743787       inf\n",
       "gamma        2.804479e-07  3.779437e+06 -335209.933329  0.160742"
      ]
     },
     "execution_count": 13,
     "metadata": {},
     "output_type": "execute_result"
    },
    {
     "data": {
      "image/png": "[encoded data removed]",
      "text/plain": [
       "<Figure size 432x288 with 1 Axes>"
      ]
     },
     "metadata": {
      "needs_background": "light"
     },
     "output_type": "display_data"
    }
   ],
   "source": [
    "f = Fitter(all['ADE_15'],\n",
    "           distributions = distribution2)\n",
    "f.fit()\n",
    "f.summary()"
   ]
  },
  {
   "cell_type": "markdown",
   "metadata": {},
   "source": [
    "## Wasserstein distance"
   ]
  },
  {
   "cell_type": "markdown",
   "metadata": {},
   "source": [
    "#### child/all"
   ]
  },
  {
   "cell_type": "code",
   "execution_count": 19,
   "metadata": {},
   "outputs": [
    {
     "name": "stdout",
     "output_type": "stream",
     "text": [
      "MSE 0.5:  87.94901590947148\n",
      "MSE 1.0:  456.9340329790589\n",
      "MSE 1.5:  1628.6408465874936\n",
      "CMSE 1.5:  1579.8901731546277\n",
      "CFMSE 1.5:  6478.64508394595\n"
     ]
    }
   ],
   "source": [
    "print('MSE 0.5: ', stats.wasserstein_distance(child['ADE_05'], all['ADE_05']))\n",
    "print('MSE 1.0: ', stats.wasserstein_distance(child['ADE_10'], all['ADE_10']))\n",
    "print('MSE 1.5: ', stats.wasserstein_distance(child['ADE_15'], all['ADE_15']))\n",
    "print('CMSE 1.5: ', stats.wasserstein_distance(child['C-ADE(1.5)'], all['C-ADE(1.5)']))\n",
    "print('CFMSE 1.5: ', stats.wasserstein_distance(child['C_FDE(1.5)'], all['C_FDE(1.5)']))"
   ]
  },
  {
   "cell_type": "markdown",
   "metadata": {},
   "source": [
    "#### adult/all"
   ]
  },
  {
   "cell_type": "code",
   "execution_count": 20,
   "metadata": {},
   "outputs": [
    {
     "name": "stdout",
     "output_type": "stream",
     "text": [
      "MSE 0.5:  81.52145229818439\n",
      "MSE 1.0:  270.6095488911866\n",
      "MSE 1.5:  820.7877476973015\n",
      "CMSE 1.5:  751.1709773573575\n",
      "CFMSE 1.5:  3064.2706426970626\n"
     ]
    }
   ],
   "source": [
    "print('MSE 0.5: ', stats.wasserstein_distance(adult['ADE_05'], all['ADE_05']))\n",
    "print('MSE 1.0: ', stats.wasserstein_distance(adult['ADE_10'], all['ADE_10']))\n",
    "print('MSE 1.5: ', stats.wasserstein_distance(adult['ADE_15'], all['ADE_15']))\n",
    "print('CMSE 1.5: ', stats.wasserstein_distance(adult['C-ADE(1.5)'], all['C-ADE(1.5)']))\n",
    "print('CFMSE 1.5: ', stats.wasserstein_distance(adult['C_FDE(1.5)'], all['C_FDE(1.5)']))"
   ]
  },
  {
   "cell_type": "markdown",
   "metadata": {},
   "source": [
    "#### elderly/all"
   ]
  },
  {
   "cell_type": "code",
   "execution_count": 21,
   "metadata": {},
   "outputs": [
    {
     "name": "stdout",
     "output_type": "stream",
     "text": [
      "MSE 0.5:  64.98747537101004\n",
      "MSE 1.0:  202.4422601731925\n",
      "MSE 1.5:  560.4762023713828\n",
      "CMSE 1.5:  523.9190009825669\n",
      "CFMSE 1.5:  1979.9455468497385\n"
     ]
    }
   ],
   "source": [
    "print('MSE 0.5: ', stats.wasserstein_distance(elderly['ADE_05'], all['ADE_05']))\n",
    "print('MSE 1.0: ', stats.wasserstein_distance(elderly['ADE_10'], all['ADE_10']))\n",
    "print('MSE 1.5: ', stats.wasserstein_distance(elderly['ADE_15'], all['ADE_15']))\n",
    "print('CMSE 1.5: ', stats.wasserstein_distance(elderly['C-ADE(1.5)'], all['C-ADE(1.5)']))\n",
    "print('CFMSE 1.5: ', stats.wasserstein_distance(elderly['C_FDE(1.5)'], all['C_FDE(1.5)']))"
   ]
  },
  {
   "cell_type": "markdown",
   "metadata": {},
   "source": [
    "#### male/all"
   ]
  },
  {
   "cell_type": "code",
   "execution_count": 3,
   "metadata": {},
   "outputs": [
    {
     "name": "stdout",
     "output_type": "stream",
     "text": [
      "MSE 0.5:  89.42302215792431\n",
      "MSE 1.0:  248.6494156383161\n",
      "MSE 1.5:  664.6095791483159\n",
      "CMSE 1.5:  585.073393293593\n",
      "CFMSE 1.5:  2226.5575759846965\n"
     ]
    }
   ],
   "source": [
    "print('MSE 0.5: ', stats.wasserstein_distance(male['ADE_05'], all['ADE_05']))\n",
    "print('MSE 1.0: ', stats.wasserstein_distance(male['ADE_10'], all['ADE_10']))\n",
    "print('MSE 1.5: ', stats.wasserstein_distance(male['ADE_15'], all['ADE_15']))\n",
    "print('CMSE 1.5: ', stats.wasserstein_distance(male['C-ADE(1.5)'], all['C-ADE(1.5)']))\n",
    "print('CFMSE 1.5: ', stats.wasserstein_distance(male['C_FDE(1.5)'], all['C_FDE(1.5)']))"
   ]
  },
  {
   "cell_type": "markdown",
   "metadata": {},
   "source": [
    "#### female/all"
   ]
  },
  {
   "cell_type": "code",
   "execution_count": 4,
   "metadata": {},
   "outputs": [
    {
     "name": "stdout",
     "output_type": "stream",
     "text": [
      "MSE 0.5:  70.0268349471161\n",
      "MSE 1.0:  265.2207512230632\n",
      "MSE 1.5:  855.8960773853513\n",
      "CMSE 1.5:  800.0393233473206\n",
      "CFMSE 1.5:  3248.8103723998715\n"
     ]
    }
   ],
   "source": [
    "print('MSE 0.5: ', stats.wasserstein_distance(female['ADE_05'], all['ADE_05']))\n",
    "print('MSE 1.0: ', stats.wasserstein_distance(female['ADE_10'], all['ADE_10']))\n",
    "print('MSE 1.5: ', stats.wasserstein_distance(female['ADE_15'], all['ADE_15']))\n",
    "print('CMSE 1.5: ', stats.wasserstein_distance(female['C-ADE(1.5)'], all['C-ADE(1.5)']))\n",
    "print('CFMSE 1.5: ', stats.wasserstein_distance(female['C_FDE(1.5)'], all['C_FDE(1.5)']))"
   ]
  },
  {
   "cell_type": "markdown",
   "metadata": {},
   "source": [
    "#### child/labeled"
   ]
  },
  {
   "cell_type": "code",
   "execution_count": 5,
   "metadata": {},
   "outputs": [
    {
     "name": "stdout",
     "output_type": "stream",
     "text": [
      "MSE 0.5:  24.004185719523313\n",
      "MSE 1.0:  217.2361973624512\n",
      "MSE 1.5:  901.8046828997899\n",
      "CMSE 1.5:  915.9261978213704\n",
      "CFMSE 1.5:  3775.739455224057\n"
     ]
    }
   ],
   "source": [
    "print('MSE 0.5: ', stats.wasserstein_distance(child['ADE_05'], labeled['ADE_05']))\n",
    "print('MSE 1.0: ', stats.wasserstein_distance(child['ADE_10'], labeled['ADE_10']))\n",
    "print('MSE 1.5: ', stats.wasserstein_distance(child['ADE_15'], labeled['ADE_15']))\n",
    "print('CMSE 1.5: ', stats.wasserstein_distance(child['C-ADE(1.5)'], labeled['C-ADE(1.5)']))\n",
    "print('CFMSE 1.5: ', stats.wasserstein_distance(child['C_FDE(1.5)'], labeled['C_FDE(1.5)']))"
   ]
  },
  {
   "cell_type": "markdown",
   "metadata": {},
   "source": [
    "#### adult/labeled"
   ]
  },
  {
   "cell_type": "code",
   "execution_count": 6,
   "metadata": {},
   "outputs": [
    {
     "name": "stdout",
     "output_type": "stream",
     "text": [
      "MSE 0.5:  5.838899082620309\n",
      "MSE 1.0:  29.689266744312988\n",
      "MSE 1.5:  97.72218165553228\n",
      "CMSE 1.5:  91.56823456494688\n",
      "CFMSE 1.5:  368.53462682449583\n"
     ]
    }
   ],
   "source": [
    "print('MSE 0.5: ', stats.wasserstein_distance(adult['ADE_05'], labeled['ADE_05']))\n",
    "print('MSE 1.0: ', stats.wasserstein_distance(adult['ADE_10'], labeled['ADE_10']))\n",
    "print('MSE 1.5: ', stats.wasserstein_distance(adult['ADE_15'], labeled['ADE_15']))\n",
    "print('CMSE 1.5: ', stats.wasserstein_distance(adult['C-ADE(1.5)'], labeled['C-ADE(1.5)']))\n",
    "print('CFMSE 1.5: ', stats.wasserstein_distance(adult['C_FDE(1.5)'], labeled['C_FDE(1.5)']))"
   ]
  },
  {
   "cell_type": "markdown",
   "metadata": {},
   "source": [
    "#### elderly/labeled"
   ]
  },
  {
   "cell_type": "code",
   "execution_count": 7,
   "metadata": {},
   "outputs": [
    {
     "name": "stdout",
     "output_type": "stream",
     "text": [
      "MSE 0.5:  32.48666627183697\n",
      "MSE 1.0:  226.58287166476146\n",
      "MSE 1.5:  809.6897713008095\n",
      "CMSE 1.5:  785.8973714001424\n",
      "CFMSE 1.5:  3260.4294321880675\n"
     ]
    }
   ],
   "source": [
    "print('MSE 0.5: ', stats.wasserstein_distance(elderly['ADE_05'], labeled['ADE_05']))\n",
    "print('MSE 1.0: ', stats.wasserstein_distance(elderly['ADE_10'], labeled['ADE_10']))\n",
    "print('MSE 1.5: ', stats.wasserstein_distance(elderly['ADE_15'], labeled['ADE_15']))\n",
    "print('CMSE 1.5: ', stats.wasserstein_distance(elderly['C-ADE(1.5)'], labeled['C-ADE(1.5)']))\n",
    "print('CFMSE 1.5: ', stats.wasserstein_distance(elderly['C_FDE(1.5)'], labeled['C_FDE(1.5)']))"
   ]
  },
  {
   "cell_type": "markdown",
   "metadata": {},
   "source": [
    "#### male/labeled"
   ]
  },
  {
   "cell_type": "code",
   "execution_count": 8,
   "metadata": {},
   "outputs": [
    {
     "name": "stdout",
     "output_type": "stream",
     "text": [
      "MSE 0.5:  14.410954431010348\n",
      "MSE 1.0:  46.37560103859047\n",
      "MSE 1.5:  198.25737187672718\n",
      "CMSE 1.5:  194.45495783308505\n",
      "CFMSE 1.5:  784.1782397468407\n"
     ]
    }
   ],
   "source": [
    "print('MSE 0.5: ', stats.wasserstein_distance(male['ADE_05'], labeled['ADE_05']))\n",
    "print('MSE 1.0: ', stats.wasserstein_distance(male['ADE_10'], labeled['ADE_10']))\n",
    "print('MSE 1.5: ', stats.wasserstein_distance(male['ADE_15'], labeled['ADE_15']))\n",
    "print('CMSE 1.5: ', stats.wasserstein_distance(male['C-ADE(1.5)'], labeled['C-ADE(1.5)']))\n",
    "print('CFMSE 1.5: ', stats.wasserstein_distance(male['C_FDE(1.5)'], labeled['C_FDE(1.5)']))"
   ]
  },
  {
   "cell_type": "markdown",
   "metadata": {},
   "source": [
    "#### female/labeled"
   ]
  },
  {
   "cell_type": "code",
   "execution_count": 9,
   "metadata": {},
   "outputs": [
    {
     "name": "stdout",
     "output_type": "stream",
     "text": [
      "MSE 0.5:  7.919103875551805\n",
      "MSE 1.0:  31.513409229850396\n",
      "MSE 1.5:  129.86007509065496\n",
      "CMSE 1.5:  128.17402021512294\n",
      "CFMSE 1.5:  510.52522563475463\n"
     ]
    }
   ],
   "source": [
    "print('MSE 0.5: ', stats.wasserstein_distance(female['ADE_05'], labeled['ADE_05']))\n",
    "print('MSE 1.0: ', stats.wasserstein_distance(female['ADE_10'], labeled['ADE_10']))\n",
    "print('MSE 1.5: ', stats.wasserstein_distance(female['ADE_15'], labeled['ADE_15']))\n",
    "print('CMSE 1.5: ', stats.wasserstein_distance(female['C-ADE(1.5)'], labeled['C-ADE(1.5)']))\n",
    "print('CFMSE 1.5: ', stats.wasserstein_distance(female['C_FDE(1.5)'], labeled['C_FDE(1.5)']))"
   ]
  },
  {
   "cell_type": "markdown",
   "metadata": {},
   "source": [
    "#### child/adult"
   ]
  },
  {
   "cell_type": "code",
   "execution_count": 16,
   "metadata": {},
   "outputs": [
    {
     "name": "stdout",
     "output_type": "stream",
     "text": [
      "MSE 0.5:  25.728551878757926\n",
      "MSE 1.0:  194.47600332791558\n",
      "MSE 1.5:  825.3778925386393\n",
      "CMSE 1.5:  846.043983655517\n",
      "CFMSE 1.5:  3486.025528626999\n"
     ]
    }
   ],
   "source": [
    "print('MSE 0.5: ', stats.wasserstein_distance(child['ADE_05'], adult['ADE_05']))\n",
    "print('MSE 1.0: ', stats.wasserstein_distance(child['ADE_10'], adult['ADE_10']))\n",
    "print('MSE 1.5: ', stats.wasserstein_distance(child['ADE_15'], adult['ADE_15']))\n",
    "print('CMSE 1.5: ', stats.wasserstein_distance(child['C-ADE(1.5)'], adult['C-ADE(1.5)']))\n",
    "print('CFMSE 1.5: ', stats.wasserstein_distance(child['C_FDE(1.5)'], adult['C_FDE(1.5)']))"
   ]
  },
  {
   "cell_type": "markdown",
   "metadata": {},
   "source": [
    "#### elderly/adult"
   ]
  },
  {
   "cell_type": "code",
   "execution_count": 17,
   "metadata": {},
   "outputs": [
    {
     "name": "stdout",
     "output_type": "stream",
     "text": [
      "MSE 0.5:  38.292868403114255\n",
      "MSE 1.0:  253.52653594282702\n",
      "MSE 1.5:  892.818967165605\n",
      "CMSE 1.5:  862.3878755811959\n",
      "CFMSE 1.5:  3579.920671080037\n"
     ]
    }
   ],
   "source": [
    "print('MSE 0.5: ', stats.wasserstein_distance(elderly['ADE_05'], adult['ADE_05']))\n",
    "print('MSE 1.0: ', stats.wasserstein_distance(elderly['ADE_10'], adult['ADE_10']))\n",
    "print('MSE 1.5: ', stats.wasserstein_distance(elderly['ADE_15'], adult['ADE_15']))\n",
    "print('CMSE 1.5: ', stats.wasserstein_distance(elderly['C-ADE(1.5)'], adult['C-ADE(1.5)']))\n",
    "print('CFMSE 1.5: ', stats.wasserstein_distance(elderly['C_FDE(1.5)'], adult['C_FDE(1.5)']))"
   ]
  },
  {
   "cell_type": "markdown",
   "metadata": {},
   "source": [
    "#### male/female"
   ]
  },
  {
   "cell_type": "code",
   "execution_count": 18,
   "metadata": {},
   "outputs": [
    {
     "name": "stdout",
     "output_type": "stream",
     "text": [
      "MSE 0.5:  21.68955952750022\n",
      "MSE 1.0:  76.82282251960905\n",
      "MSE 1.5:  327.91471263150066\n",
      "CMSE 1.5:  322.14143461105306\n",
      "CFMSE 1.5:  1281.5592601779722\n"
     ]
    }
   ],
   "source": [
    "print('MSE 0.5: ', stats.wasserstein_distance(male['ADE_05'], female['ADE_05']))\n",
    "print('MSE 1.0: ', stats.wasserstein_distance(male['ADE_10'], female['ADE_10']))\n",
    "print('MSE 1.5: ', stats.wasserstein_distance(male['ADE_15'], female['ADE_15']))\n",
    "print('CMSE 1.5: ', stats.wasserstein_distance(male['C-ADE(1.5)'], female['C-ADE(1.5)']))\n",
    "print('CFMSE 1.5: ', stats.wasserstein_distance(male['C_FDE(1.5)'], female['C_FDE(1.5)']))"
   ]
  }
 ],
 "metadata": {
  "kernelspec": {
   "display_name": "Python 3.9.12 ('base')",
   "language": "python",
   "name": "python3"
  },
  "language_info": {
   "codemirror_mode": {
    "name": "ipython",
    "version": 3
   },
   "file_extension": ".py",
   "mimetype": "text/x-python",
   "name": "python",
   "nbconvert_exporter": "python",
   "pygments_lexer": "ipython3",
   "version": "3.9.12"
  },
  "orig_nbformat": 4,
  "vscode": {
   "interpreter": {
    "hash": "db33168a371558177f016f3dcfd823d58450a3b104f322b87989a5f237dccb9b"
   }
  }
 },
 "nbformat": 4,
 "nbformat_minor": 2
}
