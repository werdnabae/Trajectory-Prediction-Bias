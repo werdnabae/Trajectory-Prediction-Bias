{
 "cells": [
  {
   "cell_type": "code",
   "execution_count": 2,
   "metadata": {},
   "outputs": [],
   "source": [
    "import os\n",
    "import numpy as np\n",
    "import pickle as pkl\n",
    "from matplotlib import pyplot as plt\n",
    "from statistics import mean\n",
    "import pandas as pd\n",
    "from scipy import stats\n",
    "from fitter import Fitter, get_common_distributions, get_distributions"
   ]
  },
  {
   "cell_type": "code",
   "execution_count": 3,
   "metadata": {},
   "outputs": [],
   "source": [
    "child = open('BiTrapD_PIE_child_test.pkl', 'rb')\n",
    "child = pkl.load(child)\n",
    "\n",
    "adult = open('BiTrapD_PIE_adult_test.pkl', 'rb')\n",
    "adult = pkl.load(adult)\n",
    "\n",
    "elderly = open('BiTrapD_PIE_elderly_test.pkl', 'rb')\n",
    "elderly = pkl.load(elderly)\n",
    "\n",
    "male = open('BiTrapD_PIE_male_test.pkl', 'rb')\n",
    "male = pkl.load(male)\n",
    "\n",
    "female = open('BiTrapD_PIE_female_test.pkl', 'rb')\n",
    "female = pkl.load(female)\n",
    "\n",
    "all = open('BiTrapD_PIE_all_test.pkl', 'rb')\n",
    "all = pkl.load(all)"
   ]
  },
  {
   "cell_type": "code",
   "execution_count": 4,
   "metadata": {},
   "outputs": [
    {
     "name": "stdout",
     "output_type": "stream",
     "text": [
      "MSE 0.5:  86.02509013176835\n",
      "MSE 0.5:  38.380743014913946\n",
      "MSE 0.5:  68.61665024879981\n",
      "MSE 0.5:  42.75248086254286\n",
      "MSE 0.5:  38.85734520238676\n"
     ]
    }
   ],
   "source": [
    "print('MSE 0.5: ', mean(child['MSE_05']))\n",
    "print('MSE 0.5: ', mean(adult['MSE_05']))\n",
    "print('MSE 0.5: ', mean(elderly['MSE_05']))\n",
    "print('MSE 0.5: ', mean(male['MSE_05']))\n",
    "print('MSE 0.5: ', mean(female['MSE_05']))"
   ]
  },
  {
   "cell_type": "markdown",
   "metadata": {},
   "source": [
    "## Kruskal Wallis Test - Age"
   ]
  },
  {
   "cell_type": "code",
   "execution_count": 5,
   "metadata": {},
   "outputs": [
    {
     "name": "stdout",
     "output_type": "stream",
     "text": [
      "MSE 0.5:  KruskalResult(statistic=348.0886148052322, pvalue=2.591299960205327e-76)\n",
      "MSE 1.0:  KruskalResult(statistic=303.5830867308998, pvalue=1.1961077843443846e-66)\n",
      "MSE 1.5:  KruskalResult(statistic=243.95843126558174, pvalue=1.0594970304029533e-53)\n",
      "CMSE 1.5:  KruskalResult(statistic=211.81135117352792, pvalue=1.013326710423263e-46)\n",
      "CFMSE 1.5:  KruskalResult(statistic=173.10601530405444, pvalue=2.5733945958084706e-38)\n"
     ]
    }
   ],
   "source": [
    "print('MSE 0.5: ', stats.kruskal(child['MSE_05'], adult['MSE_05'], elderly['MSE_05']))\n",
    "print('MSE 1.0: ', stats.kruskal(child['MSE_10'], adult['MSE_10'], elderly['MSE_10']))\n",
    "print('MSE 1.5: ', stats.kruskal(child['MSE_15'], adult['MSE_15'], elderly['MSE_15']))\n",
    "print('CMSE 1.5: ', stats.kruskal(child['CMSE'], adult['CMSE'], elderly['CMSE']))\n",
    "print('CFMSE 1.5: ', stats.kruskal(child['CFMSE'], adult['CFMSE'], elderly['CFMSE']))"
   ]
  },
  {
   "cell_type": "markdown",
   "metadata": {},
   "source": [
    "## Mann-Whitney U Test - Age"
   ]
  },
  {
   "cell_type": "markdown",
   "metadata": {},
   "source": [
    "#### Child/Adult"
   ]
  },
  {
   "cell_type": "code",
   "execution_count": 6,
   "metadata": {},
   "outputs": [
    {
     "name": "stdout",
     "output_type": "stream",
     "text": [
      "MSE 0.5:  MannwhitneyuResult(statistic=1575388.0, pvalue=0.839343786085583)\n",
      "MSE 1.0:  MannwhitneyuResult(statistic=1614408.0, pvalue=0.8321398302258168)\n",
      "MSE 1.5:  MannwhitneyuResult(statistic=1661401.0, pvalue=0.4768389384430701)\n",
      "CMSE 1.5:  MannwhitneyuResult(statistic=1702619.0, pvalue=0.25036734482401257)\n",
      "CFMSE 1.5:  MannwhitneyuResult(statistic=1871401.0, pvalue=0.003247760354563915)\n"
     ]
    }
   ],
   "source": [
    "print('MSE 0.5: ', stats.mannwhitneyu(child['MSE_05'], adult['MSE_05']))\n",
    "print('MSE 1.0: ', stats.mannwhitneyu(child['MSE_10'], adult['MSE_10']))\n",
    "print('MSE 1.5: ', stats.mannwhitneyu(child['MSE_15'], adult['MSE_15']))\n",
    "print('CMSE 1.5: ', stats.mannwhitneyu(child['CMSE'], adult['CMSE']))\n",
    "print('CFMSE 1.5: ', stats.mannwhitneyu(child['CFMSE'], adult['CFMSE']))"
   ]
  },
  {
   "cell_type": "markdown",
   "metadata": {},
   "source": [
    "#### Elderly/Adult"
   ]
  },
  {
   "cell_type": "code",
   "execution_count": 7,
   "metadata": {},
   "outputs": [
    {
     "name": "stdout",
     "output_type": "stream",
     "text": [
      "MSE 0.5:  MannwhitneyuResult(statistic=58104377.0, pvalue=1.001693882964131e-77)\n",
      "MSE 1.0:  MannwhitneyuResult(statistic=57443459.0, pvalue=4.58572946227015e-68)\n",
      "MSE 1.5:  MannwhitneyuResult(statistic=56467135.0, pvalue=5.4521402515886325e-55)\n",
      "CMSE 1.5:  MannwhitneyuResult(statistic=55880781.0, pvalue=8.018444188676468e-48)\n",
      "CFMSE 1.5:  MannwhitneyuResult(statistic=54986591.0, pvalue=7.00798899312659e-38)\n"
     ]
    }
   ],
   "source": [
    "print('MSE 0.5: ', stats.mannwhitneyu(elderly['MSE_05'], adult['MSE_05']))\n",
    "print('MSE 1.0: ', stats.mannwhitneyu(elderly['MSE_10'], adult['MSE_10']))\n",
    "print('MSE 1.5: ', stats.mannwhitneyu(elderly['MSE_15'], adult['MSE_15']))\n",
    "print('CMSE 1.5: ', stats.mannwhitneyu(elderly['CMSE'], adult['CMSE']))\n",
    "print('CFMSE 1.5: ', stats.mannwhitneyu(elderly['CFMSE'], adult['CFMSE']))"
   ]
  },
  {
   "cell_type": "markdown",
   "metadata": {},
   "source": [
    "#### Child/Adult one sided"
   ]
  },
  {
   "cell_type": "code",
   "execution_count": 8,
   "metadata": {},
   "outputs": [
    {
     "name": "stdout",
     "output_type": "stream",
     "text": [
      "MSE 0.5:  MannwhitneyuResult(statistic=1575388.0, pvalue=0.5803322606375039)\n",
      "MSE 1.0:  MannwhitneyuResult(statistic=1614408.0, pvalue=0.4160699151129084)\n",
      "MSE 1.5:  MannwhitneyuResult(statistic=1661401.0, pvalue=0.23841946922153506)\n",
      "CMSE 1.5:  MannwhitneyuResult(statistic=1702619.0, pvalue=0.12518367241200629)\n",
      "CFMSE 1.5:  MannwhitneyuResult(statistic=1871401.0, pvalue=0.0016238801772819574)\n"
     ]
    }
   ],
   "source": [
    "print('MSE 0.5: ', stats.mannwhitneyu(child['MSE_05'], adult['MSE_05'], alternative = 'greater'))\n",
    "print('MSE 1.0: ', stats.mannwhitneyu(child['MSE_10'], adult['MSE_10'], alternative = 'greater'))\n",
    "print('MSE 1.5: ', stats.mannwhitneyu(child['MSE_15'], adult['MSE_15'], alternative = 'greater'))\n",
    "print('CMSE 1.5: ', stats.mannwhitneyu(child['CMSE'], adult['CMSE'], alternative = 'greater'))\n",
    "print('CFMSE 1.5: ', stats.mannwhitneyu(child['CFMSE'], adult['CFMSE'], alternative = 'greater'))"
   ]
  },
  {
   "cell_type": "markdown",
   "metadata": {},
   "source": [
    "#### Elderly/Adult one sided"
   ]
  },
  {
   "cell_type": "code",
   "execution_count": 10,
   "metadata": {},
   "outputs": [
    {
     "name": "stdout",
     "output_type": "stream",
     "text": [
      "MSE 0.5:  MannwhitneyuResult(statistic=58104377.0, pvalue=5.008469414820655e-78)\n",
      "MSE 1.0:  MannwhitneyuResult(statistic=57443459.0, pvalue=2.292864731135075e-68)\n",
      "MSE 1.5:  MannwhitneyuResult(statistic=56467135.0, pvalue=2.7260701257943163e-55)\n",
      "CMSE 1.5:  MannwhitneyuResult(statistic=55880781.0, pvalue=4.009222094338234e-48)\n",
      "CFMSE 1.5:  MannwhitneyuResult(statistic=54986591.0, pvalue=3.503994496563295e-38)\n"
     ]
    }
   ],
   "source": [
    "print('MSE 0.5: ', stats.mannwhitneyu(elderly['MSE_05'], adult['MSE_05'], alternative = 'greater'))\n",
    "print('MSE 1.0: ', stats.mannwhitneyu(elderly['MSE_10'], adult['MSE_10'], alternative = 'greater'))\n",
    "print('MSE 1.5: ', stats.mannwhitneyu(elderly['MSE_15'], adult['MSE_15'], alternative = 'greater'))\n",
    "print('CMSE 1.5: ', stats.mannwhitneyu(elderly['CMSE'], adult['CMSE'], alternative = 'greater'))\n",
    "print('CFMSE 1.5: ', stats.mannwhitneyu(elderly['CFMSE'], adult['CFMSE'], alternative = 'greater'))"
   ]
  },
  {
   "cell_type": "markdown",
   "metadata": {},
   "source": [
    "### Mann-Whitney U Test - Gender"
   ]
  },
  {
   "cell_type": "code",
   "execution_count": 6,
   "metadata": {},
   "outputs": [
    {
     "name": "stdout",
     "output_type": "stream",
     "text": [
      "MSE 0.5:  MannwhitneyuResult(statistic=162832266.0, pvalue=0.9597200879884791)\n",
      "MSE 1.0:  MannwhitneyuResult(statistic=163023356.0, pvalue=0.8077710308397887)\n",
      "MSE 1.5:  MannwhitneyuResult(statistic=163575106.0, pvalue=0.4237204513145494)\n",
      "CMSE 1.5:  MannwhitneyuResult(statistic=162937599.0, pvalue=0.8754188909159468)\n",
      "CFMSE 1.5:  MannwhitneyuResult(statistic=164621944.0, pvalue=0.06342839759318528)\n"
     ]
    }
   ],
   "source": [
    "print('MSE 0.5: ', stats.mannwhitneyu(male['MSE_05'], female['MSE_05']))\n",
    "print('MSE 1.0: ', stats.mannwhitneyu(male['MSE_10'], female['MSE_10']))\n",
    "print('MSE 1.5: ', stats.mannwhitneyu(male['MSE_15'], female['MSE_15']))\n",
    "print('CMSE 1.5: ', stats.mannwhitneyu(male['CMSE'], female['CMSE']))\n",
    "print('CFMSE 1.5: ', stats.mannwhitneyu(male['CFMSE'], female['CFMSE']))"
   ]
  },
  {
   "cell_type": "markdown",
   "metadata": {},
   "source": [
    "### Mann-Whitney U Test - Gender one side"
   ]
  },
  {
   "cell_type": "code",
   "execution_count": 11,
   "metadata": {},
   "outputs": [
    {
     "name": "stdout",
     "output_type": "stream",
     "text": [
      "MSE 0.5:  MannwhitneyuResult(statistic=162832266.0, pvalue=0.47986004399423954)\n",
      "MSE 1.0:  MannwhitneyuResult(statistic=163023356.0, pvalue=0.40388551541989437)\n",
      "MSE 1.5:  MannwhitneyuResult(statistic=163575106.0, pvalue=0.2118602256572747)\n",
      "CMSE 1.5:  MannwhitneyuResult(statistic=162937599.0, pvalue=0.4377094454579734)\n",
      "CFMSE 1.5:  MannwhitneyuResult(statistic=164621944.0, pvalue=0.03171419879659264)\n"
     ]
    }
   ],
   "source": [
    "print('MSE 0.5: ', stats.mannwhitneyu(male['MSE_05'], female['MSE_05'], alternative = 'greater'))\n",
    "print('MSE 1.0: ', stats.mannwhitneyu(male['MSE_10'], female['MSE_10'], alternative = 'greater'))\n",
    "print('MSE 1.5: ', stats.mannwhitneyu(male['MSE_15'], female['MSE_15'], alternative = 'greater'))\n",
    "print('CMSE 1.5: ', stats.mannwhitneyu(male['CMSE'], female['CMSE'], alternative = 'greater'))\n",
    "print('CFMSE 1.5: ', stats.mannwhitneyu(male['CFMSE'], female['CFMSE'], alternative = 'greater'))"
   ]
  },
  {
   "cell_type": "markdown",
   "metadata": {},
   "source": [
    "## Distribution Fit"
   ]
  },
  {
   "cell_type": "code",
   "execution_count": 7,
   "metadata": {},
   "outputs": [],
   "source": [
    "for error in all:\n",
    "    all[error] = np.array(all[error])\n",
    "for error in child:\n",
    "    child[error] = np.array(child[error])\n",
    "for error in adult:\n",
    "    adult[error] = np.array(adult[error])\n",
    "for error in elderly:\n",
    "    elderly[error] = np.array(elderly[error])\n",
    "for error in male:\n",
    "    male[error] = np.array(male[error])"
   ]
  },
  {
   "cell_type": "code",
   "execution_count": 8,
   "metadata": {},
   "outputs": [],
   "source": [
    "distribution1 = ['cauchy', 'chi2', 'expon', 'exponpow']\n",
    "distribution2 = ['lognorm', 'powerlaw', 'rayleigh', 'gamma']"
   ]
  },
  {
   "cell_type": "code",
   "execution_count": 9,
   "metadata": {},
   "outputs": [
    {
     "data": {
      "text/html": [
       "<div>\n",
       "<style scoped>\n",
       "    .dataframe tbody tr th:only-of-type {\n",
       "        vertical-align: middle;\n",
       "    }\n",
       "\n",
       "    .dataframe tbody tr th {\n",
       "        vertical-align: top;\n",
       "    }\n",
       "\n",
       "    .dataframe thead th {\n",
       "        text-align: right;\n",
       "    }\n",
       "</style>\n",
       "<table border=\"1\" class=\"dataframe\">\n",
       "  <thead>\n",
       "    <tr style=\"text-align: right;\">\n",
       "      <th></th>\n",
       "      <th>sumsquare_error</th>\n",
       "      <th>aic</th>\n",
       "      <th>bic</th>\n",
       "      <th>kl_div</th>\n",
       "    </tr>\n",
       "  </thead>\n",
       "  <tbody>\n",
       "    <tr>\n",
       "      <th>expon</th>\n",
       "      <td>3.147577e-08</td>\n",
       "      <td>19972.694737</td>\n",
       "      <td>-1.005514e+06</td>\n",
       "      <td>inf</td>\n",
       "    </tr>\n",
       "    <tr>\n",
       "      <th>chi2</th>\n",
       "      <td>4.633078e-07</td>\n",
       "      <td>3572.363448</td>\n",
       "      <td>-9.081343e+05</td>\n",
       "      <td>inf</td>\n",
       "    </tr>\n",
       "    <tr>\n",
       "      <th>exponpow</th>\n",
       "      <td>4.776854e-07</td>\n",
       "      <td>2917.768181</td>\n",
       "      <td>-9.070277e+05</td>\n",
       "      <td>inf</td>\n",
       "    </tr>\n",
       "    <tr>\n",
       "      <th>cauchy</th>\n",
       "      <td>7.181008e-07</td>\n",
       "      <td>3622.859017</td>\n",
       "      <td>-8.922778e+05</td>\n",
       "      <td>inf</td>\n",
       "    </tr>\n",
       "  </tbody>\n",
       "</table>\n",
       "</div>"
      ],
      "text/plain": [
       "          sumsquare_error           aic           bic  kl_div\n",
       "expon        3.147577e-08  19972.694737 -1.005514e+06     inf\n",
       "chi2         4.633078e-07   3572.363448 -9.081343e+05     inf\n",
       "exponpow     4.776854e-07   2917.768181 -9.070277e+05     inf\n",
       "cauchy       7.181008e-07   3622.859017 -8.922778e+05     inf"
      ]
     },
     "execution_count": 9,
     "metadata": {},
     "output_type": "execute_result"
    },
    {
     "data": {
      "image/png": "[encoded data removed]",
      "text/plain": [
       "<Figure size 432x288 with 1 Axes>"
      ]
     },
     "metadata": {
      "needs_background": "light"
     },
     "output_type": "display_data"
    }
   ],
   "source": [
    "f = Fitter(all['MSE_15'],\n",
    "           distributions = distribution1)\n",
    "f.fit()\n",
    "f.summary()"
   ]
  },
  {
   "cell_type": "code",
   "execution_count": 10,
   "metadata": {},
   "outputs": [
    {
     "data": {
      "text/html": [
       "<div>\n",
       "<style scoped>\n",
       "    .dataframe tbody tr th:only-of-type {\n",
       "        vertical-align: middle;\n",
       "    }\n",
       "\n",
       "    .dataframe tbody tr th {\n",
       "        vertical-align: top;\n",
       "    }\n",
       "\n",
       "    .dataframe thead th {\n",
       "        text-align: right;\n",
       "    }\n",
       "</style>\n",
       "<table border=\"1\" class=\"dataframe\">\n",
       "  <thead>\n",
       "    <tr style=\"text-align: right;\">\n",
       "      <th></th>\n",
       "      <th>sumsquare_error</th>\n",
       "      <th>aic</th>\n",
       "      <th>bic</th>\n",
       "      <th>kl_div</th>\n",
       "    </tr>\n",
       "  </thead>\n",
       "  <tbody>\n",
       "    <tr>\n",
       "      <th>lognorm</th>\n",
       "      <td>4.866591e-07</td>\n",
       "      <td>3.237613e+03</td>\n",
       "      <td>-906353.860253</td>\n",
       "      <td>inf</td>\n",
       "    </tr>\n",
       "    <tr>\n",
       "      <th>rayleigh</th>\n",
       "      <td>4.959628e-07</td>\n",
       "      <td>6.113492e+04</td>\n",
       "      <td>-905678.683299</td>\n",
       "      <td>inf</td>\n",
       "    </tr>\n",
       "    <tr>\n",
       "      <th>powerlaw</th>\n",
       "      <td>6.989372e-07</td>\n",
       "      <td>2.404413e+03</td>\n",
       "      <td>-893246.676240</td>\n",
       "      <td>inf</td>\n",
       "    </tr>\n",
       "    <tr>\n",
       "      <th>gamma</th>\n",
       "      <td>8.728674e-07</td>\n",
       "      <td>2.234090e+06</td>\n",
       "      <td>-885200.431373</td>\n",
       "      <td>0.113377</td>\n",
       "    </tr>\n",
       "  </tbody>\n",
       "</table>\n",
       "</div>"
      ],
      "text/plain": [
       "          sumsquare_error           aic            bic    kl_div\n",
       "lognorm      4.866591e-07  3.237613e+03 -906353.860253       inf\n",
       "rayleigh     4.959628e-07  6.113492e+04 -905678.683299       inf\n",
       "powerlaw     6.989372e-07  2.404413e+03 -893246.676240       inf\n",
       "gamma        8.728674e-07  2.234090e+06 -885200.431373  0.113377"
      ]
     },
     "execution_count": 10,
     "metadata": {},
     "output_type": "execute_result"
    },
    {
     "data": {
      "image/png": "[encoded data removed]",
      "text/plain": [
       "<Figure size 432x288 with 1 Axes>"
      ]
     },
     "metadata": {
      "needs_background": "light"
     },
     "output_type": "display_data"
    }
   ],
   "source": [
    "f = Fitter(all['MSE_15'],\n",
    "           distributions = distribution2)\n",
    "f.fit()\n",
    "f.summary()"
   ]
  },
  {
   "cell_type": "markdown",
   "metadata": {},
   "source": [
    "## Wasserstein distance"
   ]
  },
  {
   "cell_type": "markdown",
   "metadata": {},
   "source": [
    "#### child/all"
   ]
  },
  {
   "cell_type": "code",
   "execution_count": 16,
   "metadata": {},
   "outputs": [
    {
     "name": "stdout",
     "output_type": "stream",
     "text": [
      "MSE 0.5:  53.558651723096574\n",
      "MSE 1.0:  326.4072341383958\n",
      "MSE 1.5:  1117.7293009183861\n",
      "CMSE 1.5:  1121.5481792012672\n",
      "CFMSE 1.5:  5511.989127750833\n"
     ]
    }
   ],
   "source": [
    "print('MSE 0.5: ', stats.wasserstein_distance(child['MSE_05'], all['MSE_05']))\n",
    "print('MSE 1.0: ', stats.wasserstein_distance(child['MSE_10'], all['MSE_10']))\n",
    "print('MSE 1.5: ', stats.wasserstein_distance(child['MSE_15'], all['MSE_15']))\n",
    "print('CMSE 1.5: ', stats.wasserstein_distance(child['CMSE'], all['CMSE']))\n",
    "print('CFMSE 1.5: ', stats.wasserstein_distance(child['CFMSE'], all['CFMSE']))"
   ]
  },
  {
   "cell_type": "markdown",
   "metadata": {},
   "source": [
    "#### adult/all"
   ]
  },
  {
   "cell_type": "code",
   "execution_count": 17,
   "metadata": {},
   "outputs": [
    {
     "name": "stdout",
     "output_type": "stream",
     "text": [
      "MSE 0.5:  2.5947553385869764\n",
      "MSE 1.0:  7.752094555230904\n",
      "MSE 1.5:  19.83790799579142\n",
      "CMSE 1.5:  17.75384553587447\n",
      "CFMSE 1.5:  61.51631415246348\n"
     ]
    }
   ],
   "source": [
    "print('MSE 0.5: ', stats.wasserstein_distance(adult['MSE_05'], all['MSE_05']))\n",
    "print('MSE 1.0: ', stats.wasserstein_distance(adult['MSE_10'], all['MSE_10']))\n",
    "print('MSE 1.5: ', stats.wasserstein_distance(adult['MSE_15'], all['MSE_15']))\n",
    "print('CMSE 1.5: ', stats.wasserstein_distance(adult['CMSE'], all['CMSE']))\n",
    "print('CFMSE 1.5: ', stats.wasserstein_distance(adult['CFMSE'], all['CFMSE']))"
   ]
  },
  {
   "cell_type": "markdown",
   "metadata": {},
   "source": [
    "#### elderly/all"
   ]
  },
  {
   "cell_type": "code",
   "execution_count": 18,
   "metadata": {},
   "outputs": [
    {
     "name": "stdout",
     "output_type": "stream",
     "text": [
      "MSE 0.5:  27.64299962217238\n",
      "MSE 1.0:  78.30240938804695\n",
      "MSE 1.5:  190.62585543880365\n",
      "CMSE 1.5:  167.48947064941123\n",
      "CFMSE 1.5:  569.9213388098485\n"
     ]
    }
   ],
   "source": [
    "print('MSE 0.5: ', stats.wasserstein_distance(elderly['MSE_05'], all['MSE_05']))\n",
    "print('MSE 1.0: ', stats.wasserstein_distance(elderly['MSE_10'], all['MSE_10']))\n",
    "print('MSE 1.5: ', stats.wasserstein_distance(elderly['MSE_15'], all['MSE_15']))\n",
    "print('CMSE 1.5: ', stats.wasserstein_distance(elderly['CMSE'], all['CMSE']))\n",
    "print('CFMSE 1.5: ', stats.wasserstein_distance(elderly['CFMSE'], all['CFMSE']))"
   ]
  },
  {
   "cell_type": "markdown",
   "metadata": {},
   "source": [
    "#### male/all"
   ]
  },
  {
   "cell_type": "code",
   "execution_count": 19,
   "metadata": {},
   "outputs": [
    {
     "name": "stdout",
     "output_type": "stream",
     "text": [
      "MSE 0.5:  2.02771172339254\n",
      "MSE 1.0:  4.2551658689249905\n",
      "MSE 1.5:  23.12099085289831\n",
      "CMSE 1.5:  26.511236041004864\n",
      "CFMSE 1.5:  133.42692914061183\n"
     ]
    }
   ],
   "source": [
    "print('MSE 0.5: ', stats.wasserstein_distance(male['MSE_05'], all['MSE_05']))\n",
    "print('MSE 1.0: ', stats.wasserstein_distance(male['MSE_10'], all['MSE_10']))\n",
    "print('MSE 1.5: ', stats.wasserstein_distance(male['MSE_15'], all['MSE_15']))\n",
    "print('CMSE 1.5: ', stats.wasserstein_distance(male['CMSE'], all['CMSE']))\n",
    "print('CFMSE 1.5: ', stats.wasserstein_distance(male['CFMSE'], all['CFMSE']))"
   ]
  },
  {
   "cell_type": "markdown",
   "metadata": {},
   "source": [
    "#### female/all"
   ]
  },
  {
   "cell_type": "code",
   "execution_count": 20,
   "metadata": {},
   "outputs": [
    {
     "name": "stdout",
     "output_type": "stream",
     "text": [
      "MSE 0.5:  2.40530553771074\n",
      "MSE 1.0:  5.014048179143246\n",
      "MSE 1.5:  27.20536780194112\n",
      "CMSE 1.5:  31.195401179235798\n",
      "CFMSE 1.5:  155.30809528821516\n"
     ]
    }
   ],
   "source": [
    "print('MSE 0.5: ', stats.wasserstein_distance(female['MSE_05'], all['MSE_05']))\n",
    "print('MSE 1.0: ', stats.wasserstein_distance(female['MSE_10'], all['MSE_10']))\n",
    "print('MSE 1.5: ', stats.wasserstein_distance(female['MSE_15'], all['MSE_15']))\n",
    "print('CMSE 1.5: ', stats.wasserstein_distance(female['CMSE'], all['CMSE']))\n",
    "print('CFMSE 1.5: ', stats.wasserstein_distance(female['CFMSE'], all['CFMSE']))"
   ]
  },
  {
   "cell_type": "markdown",
   "metadata": {},
   "source": [
    "#### child/adult"
   ]
  },
  {
   "cell_type": "code",
   "execution_count": 12,
   "metadata": {},
   "outputs": [
    {
     "name": "stdout",
     "output_type": "stream",
     "text": [
      "MSE 0.5:  54.485838941256745\n",
      "MSE 1.0:  331.9493926095289\n",
      "MSE 1.5:  1136.386587848028\n",
      "CMSE 1.5:  1138.5748148673747\n",
      "CFMSE 1.5:  5572.3940037592965\n"
     ]
    }
   ],
   "source": [
    "print('MSE 0.5: ', stats.wasserstein_distance(child['MSE_05'], adult['MSE_05']))\n",
    "print('MSE 1.0: ', stats.wasserstein_distance(child['MSE_10'], adult['MSE_10']))\n",
    "print('MSE 1.5: ', stats.wasserstein_distance(child['MSE_15'], adult['MSE_15']))\n",
    "print('CMSE 1.5: ', stats.wasserstein_distance(child['CMSE'], adult['CMSE']))\n",
    "print('CFMSE 1.5: ', stats.wasserstein_distance(child['CFMSE'], adult['CFMSE']))"
   ]
  },
  {
   "cell_type": "markdown",
   "metadata": {},
   "source": [
    "#### elderly/adult"
   ]
  },
  {
   "cell_type": "code",
   "execution_count": 14,
   "metadata": {},
   "outputs": [
    {
     "name": "stdout",
     "output_type": "stream",
     "text": [
      "MSE 0.5:  30.235907233885953\n",
      "MSE 1.0:  86.04691206593466\n",
      "MSE 1.5:  210.42262364897366\n",
      "CMSE 1.5:  184.94611072598502\n",
      "CFMSE 1.5:  627.8414998332527\n"
     ]
    }
   ],
   "source": [
    "print('MSE 0.5: ', stats.wasserstein_distance(elderly['MSE_05'], adult['MSE_05']))\n",
    "print('MSE 1.0: ', stats.wasserstein_distance(elderly['MSE_10'], adult['MSE_10']))\n",
    "print('MSE 1.5: ', stats.wasserstein_distance(elderly['MSE_15'], adult['MSE_15']))\n",
    "print('CMSE 1.5: ', stats.wasserstein_distance(elderly['CMSE'], adult['CMSE']))\n",
    "print('CFMSE 1.5: ', stats.wasserstein_distance(elderly['CFMSE'], adult['CFMSE']))"
   ]
  },
  {
   "cell_type": "markdown",
   "metadata": {},
   "source": [
    "#### male/female"
   ]
  },
  {
   "cell_type": "code",
   "execution_count": 15,
   "metadata": {},
   "outputs": [
    {
     "name": "stdout",
     "output_type": "stream",
     "text": [
      "MSE 0.5:  4.4297572295277154\n",
      "MSE 1.0:  9.236412624789878\n",
      "MSE 1.5:  50.26845319014903\n",
      "CMSE 1.5:  57.68495968206709\n",
      "CFMSE 1.5:  288.5765154597364\n"
     ]
    }
   ],
   "source": [
    "print('MSE 0.5: ', stats.wasserstein_distance(male['MSE_05'], female['MSE_05']))\n",
    "print('MSE 1.0: ', stats.wasserstein_distance(male['MSE_10'], female['MSE_10']))\n",
    "print('MSE 1.5: ', stats.wasserstein_distance(male['MSE_15'], female['MSE_15']))\n",
    "print('CMSE 1.5: ', stats.wasserstein_distance(male['CMSE'], female['CMSE']))\n",
    "print('CFMSE 1.5: ', stats.wasserstein_distance(male['CFMSE'], female['CFMSE']))"
   ]
  }
 ],
 "metadata": {
  "kernelspec": {
   "display_name": "Python 3.9.12 ('base')",
   "language": "python",
   "name": "python3"
  },
  "language_info": {
   "codemirror_mode": {
    "name": "ipython",
    "version": 3
   },
   "file_extension": ".py",
   "mimetype": "text/x-python",
   "name": "python",
   "nbconvert_exporter": "python",
   "pygments_lexer": "ipython3",
   "version": "3.9.12"
  },
  "orig_nbformat": 4,
  "vscode": {
   "interpreter": {
    "hash": "db33168a371558177f016f3dcfd823d58450a3b104f322b87989a5f237dccb9b"
   }
  }
 },
 "nbformat": 4,
 "nbformat_minor": 2
}
