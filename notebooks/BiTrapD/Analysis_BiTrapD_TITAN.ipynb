{
 "cells": [
  {
   "cell_type": "code",
   "execution_count": 2,
   "metadata": {},
   "outputs": [],
   "source": [
    "import os\n",
    "import numpy as np\n",
    "import pickle as pkl\n",
    "from matplotlib import pyplot as plt\n",
    "from statistics import mean\n",
    "import pandas as pd\n",
    "from scipy import stats\n",
    "from fitter import Fitter, get_common_distributions, get_distributions"
   ]
  },
  {
   "cell_type": "code",
   "execution_count": 3,
   "metadata": {},
   "outputs": [],
   "source": [
    "child = open('BiTrapD_TITAN_child_test.pkl', 'rb')\n",
    "child = pkl.load(child)\n",
    "\n",
    "adult = open('BiTrapD_TITAN_adult_test.pkl', 'rb')\n",
    "adult = pkl.load(adult)\n",
    "\n",
    "elderly = open('BiTrapD_TITAN_elderly_test.pkl', 'rb')\n",
    "elderly = pkl.load(elderly)\n",
    "\n",
    "all = open('BiTrapD_TITAN_all_test.pkl', 'rb')\n",
    "all = pkl.load(all)"
   ]
  },
  {
   "cell_type": "code",
   "execution_count": 4,
   "metadata": {},
   "outputs": [
    {
     "name": "stdout",
     "output_type": "stream",
     "text": [
      "MSE 0.5:  289.0670565736716\n",
      "MSE 0.5:  360.74794398327793\n",
      "MSE 0.5:  390.05541003832195\n"
     ]
    }
   ],
   "source": [
    "print('MSE 0.5: ', mean(child['MSE_05']))\n",
    "print('MSE 0.5: ', mean(adult['MSE_05']))\n",
    "print('MSE 0.5: ', mean(elderly['MSE_05']))\n"
   ]
  },
  {
   "cell_type": "markdown",
   "metadata": {},
   "source": [
    "## Kruskal Wallis Test - Age"
   ]
  },
  {
   "cell_type": "code",
   "execution_count": 5,
   "metadata": {},
   "outputs": [
    {
     "name": "stdout",
     "output_type": "stream",
     "text": [
      "MSE 0.5:  KruskalResult(statistic=100.55844456337945, pvalue=1.4588519111937908e-22)\n",
      "MSE 1.0:  KruskalResult(statistic=75.9841249979072, pvalue=3.164148812873286e-17)\n",
      "MSE 1.5:  KruskalResult(statistic=67.790262876224, pvalue=1.9034060835474994e-15)\n",
      "CMSE 1.5:  KruskalResult(statistic=59.21006639410189, pvalue=1.388984648994957e-13)\n",
      "CFMSE 1.5:  KruskalResult(statistic=61.747613060462754, pvalue=3.9054959211645125e-14)\n"
     ]
    }
   ],
   "source": [
    "print('MSE 0.5: ', stats.kruskal(child['MSE_05'], adult['MSE_05'], elderly['MSE_05']))\n",
    "print('MSE 1.0: ', stats.kruskal(child['MSE_10'], adult['MSE_10'], elderly['MSE_10']))\n",
    "print('MSE 1.5: ', stats.kruskal(child['MSE_15'], adult['MSE_15'], elderly['MSE_15']))\n",
    "print('CMSE 1.5: ', stats.kruskal(child['CMSE'], adult['CMSE'], elderly['CMSE']))\n",
    "print('CFMSE 1.5: ', stats.kruskal(child['CFMSE'], adult['CFMSE'], elderly['CFMSE']))"
   ]
  },
  {
   "cell_type": "markdown",
   "metadata": {},
   "source": [
    "## Mann-Whitney U Test - Age"
   ]
  },
  {
   "cell_type": "markdown",
   "metadata": {},
   "source": [
    "#### Child/Adult"
   ]
  },
  {
   "cell_type": "code",
   "execution_count": 6,
   "metadata": {},
   "outputs": [
    {
     "name": "stdout",
     "output_type": "stream",
     "text": [
      "MSE 0.5:  MannwhitneyuResult(statistic=1715608.0, pvalue=0.31866432844690373)\n",
      "MSE 1.0:  MannwhitneyuResult(statistic=1868971.0, pvalue=0.24434287231085938)\n",
      "MSE 1.5:  MannwhitneyuResult(statistic=1958337.0, pvalue=0.015364155735357751)\n",
      "CMSE 1.5:  MannwhitneyuResult(statistic=1988428.0, pvalue=0.00440271546934125)\n",
      "CFMSE 1.5:  MannwhitneyuResult(statistic=2057835.0, pvalue=0.0001302665232822463)\n"
     ]
    }
   ],
   "source": [
    "print('MSE 0.5: ', stats.mannwhitneyu(child['MSE_05'], adult['MSE_05']))\n",
    "print('MSE 1.0: ', stats.mannwhitneyu(child['MSE_10'], adult['MSE_10']))\n",
    "print('MSE 1.5: ', stats.mannwhitneyu(child['MSE_15'], adult['MSE_15']))\n",
    "print('CMSE 1.5: ', stats.mannwhitneyu(child['CMSE'], adult['CMSE']))\n",
    "print('CFMSE 1.5: ', stats.mannwhitneyu(child['CFMSE'], adult['CFMSE']))"
   ]
  },
  {
   "cell_type": "markdown",
   "metadata": {},
   "source": [
    "#### Elderly/Adult"
   ]
  },
  {
   "cell_type": "code",
   "execution_count": 7,
   "metadata": {},
   "outputs": [
    {
     "name": "stdout",
     "output_type": "stream",
     "text": [
      "MSE 0.5:  MannwhitneyuResult(statistic=20159881.0, pvalue=3.29270130677051e-23)\n",
      "MSE 1.0:  MannwhitneyuResult(statistic=19864752.0, pvalue=4.127737703333498e-18)\n",
      "MSE 1.5:  MannwhitneyuResult(statistic=19694496.0, pvalue=1.7892997672572243e-15)\n",
      "CMSE 1.5:  MannwhitneyuResult(statistic=19527890.0, pvalue=4.152298019077803e-13)\n",
      "CFMSE 1.5:  MannwhitneyuResult(statistic=19468897.0, pvalue=2.5414353455493707e-12)\n"
     ]
    }
   ],
   "source": [
    "print('MSE 0.5: ', stats.mannwhitneyu(elderly['MSE_05'], adult['MSE_05']))\n",
    "print('MSE 1.0: ', stats.mannwhitneyu(elderly['MSE_10'], adult['MSE_10']))\n",
    "print('MSE 1.5: ', stats.mannwhitneyu(elderly['MSE_15'], adult['MSE_15']))\n",
    "print('CMSE 1.5: ', stats.mannwhitneyu(elderly['CMSE'], adult['CMSE']))\n",
    "print('CFMSE 1.5: ', stats.mannwhitneyu(elderly['CFMSE'], adult['CFMSE']))"
   ]
  },
  {
   "cell_type": "markdown",
   "metadata": {},
   "source": [
    "#### Child/Adult one sided"
   ]
  },
  {
   "cell_type": "code",
   "execution_count": 8,
   "metadata": {},
   "outputs": [
    {
     "name": "stdout",
     "output_type": "stream",
     "text": [
      "MSE 0.5:  MannwhitneyuResult(statistic=1715608.0, pvalue=0.8406712554925327)\n",
      "MSE 1.0:  MannwhitneyuResult(statistic=1868971.0, pvalue=0.12217143615542969)\n",
      "MSE 1.5:  MannwhitneyuResult(statistic=1958337.0, pvalue=0.007682077867678876)\n",
      "CMSE 1.5:  MannwhitneyuResult(statistic=1988428.0, pvalue=0.002201357734670625)\n",
      "CFMSE 1.5:  MannwhitneyuResult(statistic=2057835.0, pvalue=6.513326164112316e-05)\n"
     ]
    }
   ],
   "source": [
    "print('MSE 0.5: ', stats.mannwhitneyu(child['MSE_05'], adult['MSE_05'], alternative = 'greater'))\n",
    "print('MSE 1.0: ', stats.mannwhitneyu(child['MSE_10'], adult['MSE_10'], alternative = 'greater'))\n",
    "print('MSE 1.5: ', stats.mannwhitneyu(child['MSE_15'], adult['MSE_15'], alternative = 'greater'))\n",
    "print('CMSE 1.5: ', stats.mannwhitneyu(child['CMSE'], adult['CMSE'], alternative = 'greater'))\n",
    "print('CFMSE 1.5: ', stats.mannwhitneyu(child['CFMSE'], adult['CFMSE'], alternative = 'greater'))"
   ]
  },
  {
   "cell_type": "markdown",
   "metadata": {},
   "source": [
    "#### Elderly/Adult one sided"
   ]
  },
  {
   "cell_type": "code",
   "execution_count": 9,
   "metadata": {},
   "outputs": [
    {
     "name": "stdout",
     "output_type": "stream",
     "text": [
      "MSE 0.5:  MannwhitneyuResult(statistic=20159881.0, pvalue=1.646350653385255e-23)\n",
      "MSE 1.0:  MannwhitneyuResult(statistic=19864752.0, pvalue=2.063868851666749e-18)\n",
      "MSE 1.5:  MannwhitneyuResult(statistic=19694496.0, pvalue=8.946498836286121e-16)\n",
      "CMSE 1.5:  MannwhitneyuResult(statistic=19527890.0, pvalue=2.0761490095389014e-13)\n",
      "CFMSE 1.5:  MannwhitneyuResult(statistic=19468897.0, pvalue=1.2707176727746854e-12)\n"
     ]
    }
   ],
   "source": [
    "print('MSE 0.5: ', stats.mannwhitneyu(elderly['MSE_05'], adult['MSE_05'], alternative = 'greater'))\n",
    "print('MSE 1.0: ', stats.mannwhitneyu(elderly['MSE_10'], adult['MSE_10'], alternative = 'greater'))\n",
    "print('MSE 1.5: ', stats.mannwhitneyu(elderly['MSE_15'], adult['MSE_15'], alternative = 'greater'))\n",
    "print('CMSE 1.5: ', stats.mannwhitneyu(elderly['CMSE'], adult['CMSE'], alternative = 'greater'))\n",
    "print('CFMSE 1.5: ', stats.mannwhitneyu(elderly['CFMSE'], adult['CFMSE'], alternative = 'greater'))"
   ]
  },
  {
   "cell_type": "markdown",
   "metadata": {},
   "source": [
    "## Distribution Fit"
   ]
  },
  {
   "cell_type": "code",
   "execution_count": 7,
   "metadata": {},
   "outputs": [],
   "source": [
    "for error in all:\n",
    "    all[error] = np.array(all[error])\n",
    "for error in child:\n",
    "    child[error] = np.array(child[error])\n",
    "for error in adult:\n",
    "    adult[error] = np.array(adult[error])\n",
    "for error in elderly:\n",
    "    elderly[error] = np.array(elderly[error])"
   ]
  },
  {
   "cell_type": "code",
   "execution_count": 8,
   "metadata": {},
   "outputs": [],
   "source": [
    "distribution1 = ['cauchy', 'chi2', 'expon', 'exponpow']\n",
    "distribution2 = ['lognorm', 'powerlaw', 'rayleigh', 'gamma']"
   ]
  },
  {
   "cell_type": "code",
   "execution_count": 9,
   "metadata": {},
   "outputs": [
    {
     "data": {
      "text/html": [
       "<div>\n",
       "<style scoped>\n",
       "    .dataframe tbody tr th:only-of-type {\n",
       "        vertical-align: middle;\n",
       "    }\n",
       "\n",
       "    .dataframe tbody tr th {\n",
       "        vertical-align: top;\n",
       "    }\n",
       "\n",
       "    .dataframe thead th {\n",
       "        text-align: right;\n",
       "    }\n",
       "</style>\n",
       "<table border=\"1\" class=\"dataframe\">\n",
       "  <thead>\n",
       "    <tr style=\"text-align: right;\">\n",
       "      <th></th>\n",
       "      <th>sumsquare_error</th>\n",
       "      <th>aic</th>\n",
       "      <th>bic</th>\n",
       "      <th>kl_div</th>\n",
       "    </tr>\n",
       "  </thead>\n",
       "  <tbody>\n",
       "    <tr>\n",
       "      <th>expon</th>\n",
       "      <td>1.146142e-08</td>\n",
       "      <td>9430.917549</td>\n",
       "      <td>-535826.206189</td>\n",
       "      <td>inf</td>\n",
       "    </tr>\n",
       "    <tr>\n",
       "      <th>cauchy</th>\n",
       "      <td>1.495772e-08</td>\n",
       "      <td>3545.850118</td>\n",
       "      <td>-530756.177401</td>\n",
       "      <td>inf</td>\n",
       "    </tr>\n",
       "    <tr>\n",
       "      <th>chi2</th>\n",
       "      <td>4.107299e-08</td>\n",
       "      <td>3250.547242</td>\n",
       "      <td>-511510.548845</td>\n",
       "      <td>inf</td>\n",
       "    </tr>\n",
       "    <tr>\n",
       "      <th>exponpow</th>\n",
       "      <td>5.072153e-08</td>\n",
       "      <td>2780.979309</td>\n",
       "      <td>-507492.481299</td>\n",
       "      <td>inf</td>\n",
       "    </tr>\n",
       "  </tbody>\n",
       "</table>\n",
       "</div>"
      ],
      "text/plain": [
       "          sumsquare_error          aic            bic  kl_div\n",
       "expon        1.146142e-08  9430.917549 -535826.206189     inf\n",
       "cauchy       1.495772e-08  3545.850118 -530756.177401     inf\n",
       "chi2         4.107299e-08  3250.547242 -511510.548845     inf\n",
       "exponpow     5.072153e-08  2780.979309 -507492.481299     inf"
      ]
     },
     "execution_count": 9,
     "metadata": {},
     "output_type": "execute_result"
    },
    {
     "data": {
      "image/png": "[encoded data removed]",
      "text/plain": [
       "<Figure size 432x288 with 1 Axes>"
      ]
     },
     "metadata": {
      "needs_background": "light"
     },
     "output_type": "display_data"
    }
   ],
   "source": [
    "f = Fitter(all['MSE_15'],\n",
    "           distributions = distribution1)\n",
    "f.fit()\n",
    "f.summary()"
   ]
  },
  {
   "cell_type": "code",
   "execution_count": 10,
   "metadata": {},
   "outputs": [
    {
     "data": {
      "text/html": [
       "<div>\n",
       "<style scoped>\n",
       "    .dataframe tbody tr th:only-of-type {\n",
       "        vertical-align: middle;\n",
       "    }\n",
       "\n",
       "    .dataframe tbody tr th {\n",
       "        vertical-align: top;\n",
       "    }\n",
       "\n",
       "    .dataframe thead th {\n",
       "        text-align: right;\n",
       "    }\n",
       "</style>\n",
       "<table border=\"1\" class=\"dataframe\">\n",
       "  <thead>\n",
       "    <tr style=\"text-align: right;\">\n",
       "      <th></th>\n",
       "      <th>sumsquare_error</th>\n",
       "      <th>aic</th>\n",
       "      <th>bic</th>\n",
       "      <th>kl_div</th>\n",
       "    </tr>\n",
       "  </thead>\n",
       "  <tbody>\n",
       "    <tr>\n",
       "      <th>lognorm</th>\n",
       "      <td>1.734013e-08</td>\n",
       "      <td>3.362273e+03</td>\n",
       "      <td>-527931.847203</td>\n",
       "      <td>inf</td>\n",
       "    </tr>\n",
       "    <tr>\n",
       "      <th>rayleigh</th>\n",
       "      <td>6.157787e-08</td>\n",
       "      <td>2.223167e+04</td>\n",
       "      <td>-503808.906299</td>\n",
       "      <td>inf</td>\n",
       "    </tr>\n",
       "    <tr>\n",
       "      <th>powerlaw</th>\n",
       "      <td>6.272055e-08</td>\n",
       "      <td>2.720470e+03</td>\n",
       "      <td>-503448.915173</td>\n",
       "      <td>inf</td>\n",
       "    </tr>\n",
       "    <tr>\n",
       "      <th>gamma</th>\n",
       "      <td>9.094353e-08</td>\n",
       "      <td>5.895010e+06</td>\n",
       "      <td>-496373.494996</td>\n",
       "      <td>0.284903</td>\n",
       "    </tr>\n",
       "  </tbody>\n",
       "</table>\n",
       "</div>"
      ],
      "text/plain": [
       "          sumsquare_error           aic            bic    kl_div\n",
       "lognorm      1.734013e-08  3.362273e+03 -527931.847203       inf\n",
       "rayleigh     6.157787e-08  2.223167e+04 -503808.906299       inf\n",
       "powerlaw     6.272055e-08  2.720470e+03 -503448.915173       inf\n",
       "gamma        9.094353e-08  5.895010e+06 -496373.494996  0.284903"
      ]
     },
     "execution_count": 10,
     "metadata": {},
     "output_type": "execute_result"
    },
    {
     "data": {
      "image/png": "[encoded data removed]",
      "text/plain": [
       "<Figure size 432x288 with 1 Axes>"
      ]
     },
     "metadata": {
      "needs_background": "light"
     },
     "output_type": "display_data"
    }
   ],
   "source": [
    "f = Fitter(all['MSE_15'],\n",
    "           distributions = distribution2)\n",
    "f.fit()\n",
    "f.summary()"
   ]
  },
  {
   "cell_type": "markdown",
   "metadata": {},
   "source": [
    "## Wasserstein distance"
   ]
  },
  {
   "cell_type": "markdown",
   "metadata": {},
   "source": [
    "#### child/all"
   ]
  },
  {
   "cell_type": "code",
   "execution_count": 11,
   "metadata": {},
   "outputs": [
    {
     "name": "stdout",
     "output_type": "stream",
     "text": [
      "MSE 0.5:  163.0337713262115\n",
      "MSE 1.0:  414.6349533590665\n",
      "MSE 1.5:  1488.4482401899375\n",
      "CMSE 1.5:  1544.9908836232214\n",
      "CFMSE 1.5:  6942.17547434432\n"
     ]
    }
   ],
   "source": [
    "print('MSE 0.5: ', stats.wasserstein_distance(child['MSE_05'], all['MSE_05']))\n",
    "print('MSE 1.0: ', stats.wasserstein_distance(child['MSE_10'], all['MSE_10']))\n",
    "print('MSE 1.5: ', stats.wasserstein_distance(child['MSE_15'], all['MSE_15']))\n",
    "print('CMSE 1.5: ', stats.wasserstein_distance(child['CMSE'], all['CMSE']))\n",
    "print('CFMSE 1.5: ', stats.wasserstein_distance(child['CFMSE'], all['CFMSE']))"
   ]
  },
  {
   "cell_type": "markdown",
   "metadata": {},
   "source": [
    "#### adult/all"
   ]
  },
  {
   "cell_type": "code",
   "execution_count": 12,
   "metadata": {},
   "outputs": [
    {
     "name": "stdout",
     "output_type": "stream",
     "text": [
      "MSE 0.5:  15.862523889814138\n",
      "MSE 1.0:  40.33831675252053\n",
      "MSE 1.5:  117.15322483597794\n",
      "CMSE 1.5:  113.39199849472814\n",
      "CFMSE 1.5:  464.1289646283009\n"
     ]
    }
   ],
   "source": [
    "print('MSE 0.5: ', stats.wasserstein_distance(adult['MSE_05'], all['MSE_05']))\n",
    "print('MSE 1.0: ', stats.wasserstein_distance(adult['MSE_10'], all['MSE_10']))\n",
    "print('MSE 1.5: ', stats.wasserstein_distance(adult['MSE_15'], all['MSE_15']))\n",
    "print('CMSE 1.5: ', stats.wasserstein_distance(adult['CMSE'], all['CMSE']))\n",
    "print('CFMSE 1.5: ', stats.wasserstein_distance(adult['CFMSE'], all['CFMSE']))"
   ]
  },
  {
   "cell_type": "markdown",
   "metadata": {},
   "source": [
    "#### elderly/all"
   ]
  },
  {
   "cell_type": "code",
   "execution_count": 13,
   "metadata": {},
   "outputs": [
    {
     "name": "stdout",
     "output_type": "stream",
     "text": [
      "MSE 0.5:  125.6869259748308\n",
      "MSE 1.0:  282.33486138064785\n",
      "MSE 1.5:  815.707865056813\n",
      "CMSE 1.5:  778.7549466208385\n",
      "CFMSE 1.5:  2982.0786734565672\n"
     ]
    }
   ],
   "source": [
    "print('MSE 0.5: ', stats.wasserstein_distance(elderly['MSE_05'], all['MSE_05']))\n",
    "print('MSE 1.0: ', stats.wasserstein_distance(elderly['MSE_10'], all['MSE_10']))\n",
    "print('MSE 1.5: ', stats.wasserstein_distance(elderly['MSE_15'], all['MSE_15']))\n",
    "print('CMSE 1.5: ', stats.wasserstein_distance(elderly['CMSE'], all['CMSE']))\n",
    "print('CFMSE 1.5: ', stats.wasserstein_distance(elderly['CFMSE'], all['CFMSE']))"
   ]
  },
  {
   "cell_type": "markdown",
   "metadata": {},
   "source": [
    "#### child/adult"
   ]
  },
  {
   "cell_type": "code",
   "execution_count": 14,
   "metadata": {},
   "outputs": [
    {
     "name": "stdout",
     "output_type": "stream",
     "text": [
      "MSE 0.5:  159.37594035918733\n",
      "MSE 1.0:  449.08783447160715\n",
      "MSE 1.5:  1570.0468417017876\n",
      "CMSE 1.5:  1618.7677199467428\n",
      "CFMSE 1.5:  7275.335918290373\n"
     ]
    }
   ],
   "source": [
    "print('MSE 0.5: ', stats.wasserstein_distance(child['MSE_05'], adult['MSE_05']))\n",
    "print('MSE 1.0: ', stats.wasserstein_distance(child['MSE_10'], adult['MSE_10']))\n",
    "print('MSE 1.5: ', stats.wasserstein_distance(child['MSE_15'], adult['MSE_15']))\n",
    "print('CMSE 1.5: ', stats.wasserstein_distance(child['CMSE'], adult['CMSE']))\n",
    "print('CFMSE 1.5: ', stats.wasserstein_distance(child['CFMSE'], adult['CFMSE']))"
   ]
  },
  {
   "cell_type": "markdown",
   "metadata": {},
   "source": [
    "#### elderly/adult"
   ]
  },
  {
   "cell_type": "code",
   "execution_count": 15,
   "metadata": {},
   "outputs": [
    {
     "name": "stdout",
     "output_type": "stream",
     "text": [
      "MSE 0.5:  141.47641214332654\n",
      "MSE 1.0:  321.94964317082065\n",
      "MSE 1.5:  932.8432667445561\n",
      "CMSE 1.5:  892.1255174618326\n",
      "CFMSE 1.5:  3446.1974941957146\n"
     ]
    }
   ],
   "source": [
    "print('MSE 0.5: ', stats.wasserstein_distance(elderly['MSE_05'], adult['MSE_05']))\n",
    "print('MSE 1.0: ', stats.wasserstein_distance(elderly['MSE_10'], adult['MSE_10']))\n",
    "print('MSE 1.5: ', stats.wasserstein_distance(elderly['MSE_15'], adult['MSE_15']))\n",
    "print('CMSE 1.5: ', stats.wasserstein_distance(elderly['CMSE'], adult['CMSE']))\n",
    "print('CFMSE 1.5: ', stats.wasserstein_distance(elderly['CFMSE'], adult['CFMSE']))"
   ]
  }
 ],
 "metadata": {
  "kernelspec": {
   "display_name": "Python 3.9.12 ('base')",
   "language": "python",
   "name": "python3"
  },
  "language_info": {
   "codemirror_mode": {
    "name": "ipython",
    "version": 3
   },
   "file_extension": ".py",
   "mimetype": "text/x-python",
   "name": "python",
   "nbconvert_exporter": "python",
   "pygments_lexer": "ipython3",
   "version": "3.9.12"
  },
  "orig_nbformat": 4,
  "vscode": {
   "interpreter": {
    "hash": "db33168a371558177f016f3dcfd823d58450a3b104f322b87989a5f237dccb9b"
   }
  }
 },
 "nbformat": 4,
 "nbformat_minor": 2
}
