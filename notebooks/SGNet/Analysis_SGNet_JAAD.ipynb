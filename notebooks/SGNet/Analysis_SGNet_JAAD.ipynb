{
 "cells": [
  {
   "cell_type": "code",
   "execution_count": 1,
   "metadata": {},
   "outputs": [],
   "source": [
    "import os\n",
    "import numpy as np\n",
    "import pickle as pkl\n",
    "from matplotlib import pyplot as plt\n",
    "from statistics import mean\n",
    "import pandas as pd\n",
    "from scipy import stats\n",
    "from fitter import Fitter, get_common_distributions, get_distributions"
   ]
  },
  {
   "cell_type": "code",
   "execution_count": 2,
   "metadata": {},
   "outputs": [],
   "source": [
    "child = open('SGNet_JAAD_child_test.pkl', 'rb')\n",
    "child = pkl.load(child)\n",
    "\n",
    "adult = open('SGNet_JAAD_adult_test.pkl', 'rb')\n",
    "adult = pkl.load(adult)\n",
    "\n",
    "elderly = open('SGNet_JAAD_elderly_test.pkl', 'rb')\n",
    "elderly = pkl.load(elderly)\n",
    "\n",
    "male = open('SGNet_JAAD_male_test.pkl', 'rb')\n",
    "male = pkl.load(male)\n",
    "\n",
    "female = open('SGNet_JAAD_female_test.pkl', 'rb')\n",
    "female = pkl.load(female)\n",
    "\n",
    "all = open('SGNet_JAAD_all_test.pkl', 'rb')\n",
    "all = pkl.load(all)\n",
    "\n",
    "labeled = open('SGNet_JAAD_labeled_test.pkl', 'rb')\n",
    "labeled = pkl.load(labeled)"
   ]
  },
  {
   "cell_type": "markdown",
   "metadata": {},
   "source": [
    "## Kruskal Wallis Test - Age"
   ]
  },
  {
   "cell_type": "code",
   "execution_count": 3,
   "metadata": {},
   "outputs": [
    {
     "name": "stdout",
     "output_type": "stream",
     "text": [
      "MSE 0.5:  KruskalResult(statistic=1.272133977015983, pvalue=0.5293703547906614)\n",
      "MSE 1.0:  KruskalResult(statistic=14.959540444231607, pvalue=0.0005643870843447041)\n",
      "MSE 1.5:  KruskalResult(statistic=34.838984241894515, pvalue=2.7215147617635365e-08)\n",
      "CMSE 1.5:  KruskalResult(statistic=35.09287925631802, pvalue=2.3970555159805164e-08)\n",
      "CFMSE 1.5:  KruskalResult(statistic=40.35763287060945, pvalue=1.7236590771992823e-09)\n"
     ]
    }
   ],
   "source": [
    "print('MSE 0.5: ', stats.kruskal(child['MSE_05'], adult['MSE_05'], elderly['MSE_05']))\n",
    "print('MSE 1.0: ', stats.kruskal(child['MSE_10'], adult['MSE_10'], elderly['MSE_10']))\n",
    "print('MSE 1.5: ', stats.kruskal(child['MSE_15'], adult['MSE_15'], elderly['MSE_15']))\n",
    "print('CMSE 1.5: ', stats.kruskal(child['CMSE'], adult['CMSE'], elderly['CMSE']))\n",
    "print('CFMSE 1.5: ', stats.kruskal(child['CFMSE'], adult['CFMSE'], elderly['CFMSE']))"
   ]
  },
  {
   "cell_type": "markdown",
   "metadata": {},
   "source": [
    "## Mann-Whitney U Test - Age"
   ]
  },
  {
   "cell_type": "markdown",
   "metadata": {},
   "source": [
    "#### Child/Adult"
   ]
  },
  {
   "cell_type": "code",
   "execution_count": 4,
   "metadata": {},
   "outputs": [
    {
     "name": "stdout",
     "output_type": "stream",
     "text": [
      "MSE 0.5:  MannwhitneyuResult(statistic=859825.0, pvalue=0.5359420914244207)\n",
      "MSE 1.0:  MannwhitneyuResult(statistic=929826.0, pvalue=0.03474983722099306)\n",
      "MSE 1.5:  MannwhitneyuResult(statistic=951102.5, pvalue=0.0032703555369211334)\n",
      "CMSE 1.5:  MannwhitneyuResult(statistic=965344.5, pvalue=0.0004712350106860906)\n",
      "CFMSE 1.5:  MannwhitneyuResult(statistic=967962.0, pvalue=0.00031982813530195776)\n"
     ]
    }
   ],
   "source": [
    "print('MSE 0.5: ', stats.mannwhitneyu(child['MSE_05'], adult['MSE_05']))\n",
    "print('MSE 1.0: ', stats.mannwhitneyu(child['MSE_10'], adult['MSE_10']))\n",
    "print('MSE 1.5: ', stats.mannwhitneyu(child['MSE_15'], adult['MSE_15']))\n",
    "print('CMSE 1.5: ', stats.mannwhitneyu(child['CMSE'], adult['CMSE']))\n",
    "print('CFMSE 1.5: ', stats.mannwhitneyu(child['CFMSE'], adult['CFMSE']))"
   ]
  },
  {
   "cell_type": "markdown",
   "metadata": {},
   "source": [
    "#### Elderly/Adult"
   ]
  },
  {
   "cell_type": "code",
   "execution_count": 5,
   "metadata": {},
   "outputs": [
    {
     "name": "stdout",
     "output_type": "stream",
     "text": [
      "MSE 0.5:  MannwhitneyuResult(statistic=1840271.0, pvalue=0.41005095302841243)\n",
      "MSE 1.0:  MannwhitneyuResult(statistic=1695392.0, pvalue=0.0034725300319421127)\n",
      "MSE 1.5:  MannwhitneyuResult(statistic=1627179.5, pvalue=2.7813928196647206e-06)\n",
      "CMSE 1.5:  MannwhitneyuResult(statistic=1643459.0, pvalue=1.9956463182030738e-05)\n",
      "CFMSE 1.5:  MannwhitneyuResult(statistic=1626341.0, pvalue=2.5013668027209525e-06)\n"
     ]
    }
   ],
   "source": [
    "print('MSE 0.5: ', stats.mannwhitneyu(elderly['MSE_05'], adult['MSE_05']))\n",
    "print('MSE 1.0: ', stats.mannwhitneyu(elderly['MSE_10'], adult['MSE_10']))\n",
    "print('MSE 1.5: ', stats.mannwhitneyu(elderly['MSE_15'], adult['MSE_15']))\n",
    "print('CMSE 1.5: ', stats.mannwhitneyu(elderly['CMSE'], adult['CMSE']))\n",
    "print('CFMSE 1.5: ', stats.mannwhitneyu(elderly['CFMSE'], adult['CFMSE']))"
   ]
  },
  {
   "cell_type": "markdown",
   "metadata": {},
   "source": [
    "#### Child/Adult one side"
   ]
  },
  {
   "cell_type": "code",
   "execution_count": 6,
   "metadata": {},
   "outputs": [
    {
     "name": "stdout",
     "output_type": "stream",
     "text": [
      "MSE 0.5:  MannwhitneyuResult(statistic=859825.0, pvalue=0.7320418016204331)\n",
      "MSE 1.0:  MannwhitneyuResult(statistic=929826.0, pvalue=0.01737491861049653)\n",
      "MSE 1.5:  MannwhitneyuResult(statistic=951102.5, pvalue=0.0016351777684605667)\n",
      "CMSE 1.5:  MannwhitneyuResult(statistic=965344.5, pvalue=0.0002356175053430453)\n",
      "CFMSE 1.5:  MannwhitneyuResult(statistic=967962.0, pvalue=0.00015991406765097888)\n"
     ]
    }
   ],
   "source": [
    "print('MSE 0.5: ', stats.mannwhitneyu(child['MSE_05'], adult['MSE_05'], alternative = 'greater'))\n",
    "print('MSE 1.0: ', stats.mannwhitneyu(child['MSE_10'], adult['MSE_10'], alternative = 'greater'))\n",
    "print('MSE 1.5: ', stats.mannwhitneyu(child['MSE_15'], adult['MSE_15'], alternative = 'greater'))\n",
    "print('CMSE 1.5: ', stats.mannwhitneyu(child['CMSE'], adult['CMSE'], alternative = 'greater'))\n",
    "print('CFMSE 1.5: ', stats.mannwhitneyu(child['CFMSE'], adult['CFMSE'], alternative = 'greater'))"
   ]
  },
  {
   "cell_type": "markdown",
   "metadata": {},
   "source": [
    "#### Elderly/Adult"
   ]
  },
  {
   "cell_type": "code",
   "execution_count": 7,
   "metadata": {},
   "outputs": [
    {
     "name": "stdout",
     "output_type": "stream",
     "text": [
      "MSE 0.5:  MannwhitneyuResult(statistic=1840271.0, pvalue=0.20502547651420622)\n",
      "MSE 1.0:  MannwhitneyuResult(statistic=1695392.0, pvalue=0.9982638791485292)\n",
      "MSE 1.5:  MannwhitneyuResult(statistic=1627179.5, pvalue=0.9999986094792003)\n",
      "CMSE 1.5:  MannwhitneyuResult(statistic=1643459.0, pvalue=0.9999900229240649)\n",
      "CFMSE 1.5:  MannwhitneyuResult(statistic=1626341.0, pvalue=0.9999987494752044)\n"
     ]
    }
   ],
   "source": [
    "print('MSE 0.5: ', stats.mannwhitneyu(elderly['MSE_05'], adult['MSE_05'], alternative = 'greater'))\n",
    "print('MSE 1.0: ', stats.mannwhitneyu(elderly['MSE_10'], adult['MSE_10'], alternative = 'greater'))\n",
    "print('MSE 1.5: ', stats.mannwhitneyu(elderly['MSE_15'], adult['MSE_15'], alternative = 'greater'))\n",
    "print('CMSE 1.5: ', stats.mannwhitneyu(elderly['CMSE'], adult['CMSE'], alternative = 'greater'))\n",
    "print('CFMSE 1.5: ', stats.mannwhitneyu(elderly['CFMSE'], adult['CFMSE'], alternative = 'greater'))"
   ]
  },
  {
   "cell_type": "markdown",
   "metadata": {},
   "source": [
    "## Mann-Whitney U Test - Gender"
   ]
  },
  {
   "cell_type": "code",
   "execution_count": 19,
   "metadata": {},
   "outputs": [
    {
     "name": "stdout",
     "output_type": "stream",
     "text": [
      "MSE 0.5:  MannwhitneyuResult(statistic=3370490.0, pvalue=0.011032119104599383)\n",
      "MSE 1.0:  MannwhitneyuResult(statistic=3330787.0, pvalue=0.07320773352537391)\n",
      "MSE 1.5:  MannwhitneyuResult(statistic=3321432.0, pvalue=0.1063582220663634)\n",
      "CMSE 1.5:  MannwhitneyuResult(statistic=3272455.0, pvalue=0.4905641842812398)\n",
      "CFMSE 1.5:  MannwhitneyuResult(statistic=3284878.0, pvalue=0.3554179814245253)\n"
     ]
    }
   ],
   "source": [
    "print('MSE 0.5: ', stats.mannwhitneyu(male['MSE_05'], female['MSE_05']))\n",
    "print('MSE 1.0: ', stats.mannwhitneyu(male['MSE_10'], female['MSE_10']))\n",
    "print('MSE 1.5: ', stats.mannwhitneyu(male['MSE_15'], female['MSE_15']))\n",
    "print('CMSE 1.5: ', stats.mannwhitneyu(male['CMSE'], female['CMSE']))\n",
    "print('CFMSE 1.5: ', stats.mannwhitneyu(male['CFMSE'], female['CFMSE']))"
   ]
  },
  {
   "cell_type": "code",
   "execution_count": 8,
   "metadata": {},
   "outputs": [
    {
     "name": "stdout",
     "output_type": "stream",
     "text": [
      "MSE 0.5:  MannwhitneyuResult(statistic=3370490.0, pvalue=0.0055160595522996915)\n",
      "MSE 1.0:  MannwhitneyuResult(statistic=3330787.0, pvalue=0.036603866762686954)\n",
      "MSE 1.5:  MannwhitneyuResult(statistic=3321432.0, pvalue=0.0531791110331817)\n",
      "CMSE 1.5:  MannwhitneyuResult(statistic=3272455.0, pvalue=0.2452820921406199)\n",
      "CFMSE 1.5:  MannwhitneyuResult(statistic=3284878.0, pvalue=0.17770899071226265)\n"
     ]
    }
   ],
   "source": [
    "print('MSE 0.5: ', stats.mannwhitneyu(male['MSE_05'], female['MSE_05'], alternative = 'greater'))\n",
    "print('MSE 1.0: ', stats.mannwhitneyu(male['MSE_10'], female['MSE_10'], alternative = 'greater'))\n",
    "print('MSE 1.5: ', stats.mannwhitneyu(male['MSE_15'], female['MSE_15'], alternative = 'greater'))\n",
    "print('CMSE 1.5: ', stats.mannwhitneyu(male['CMSE'], female['CMSE'], alternative = 'greater'))\n",
    "print('CFMSE 1.5: ', stats.mannwhitneyu(male['CFMSE'], female['CFMSE'], alternative = 'greater'))"
   ]
  },
  {
   "cell_type": "markdown",
   "metadata": {},
   "source": [
    "## Distribution Fit"
   ]
  },
  {
   "cell_type": "code",
   "execution_count": 6,
   "metadata": {},
   "outputs": [],
   "source": [
    "for error in all:\n",
    "    all[error] = np.array(all[error])\n",
    "for error in child:\n",
    "    child[error] = np.array(child[error])\n",
    "for error in adult:\n",
    "    adult[error] = np.array(adult[error])\n",
    "for error in elderly:\n",
    "    elderly[error] = np.array(elderly[error])\n",
    "for error in male:\n",
    "    male[error] = np.array(male[error])"
   ]
  },
  {
   "cell_type": "code",
   "execution_count": 13,
   "metadata": {},
   "outputs": [],
   "source": [
    "distribution1 = ['cauchy', 'chi2', 'expon', 'exponpow']\n",
    "distribution2 = ['lognorm', 'powerlaw', 'rayleigh', 'gamma']"
   ]
  },
  {
   "cell_type": "code",
   "execution_count": 14,
   "metadata": {},
   "outputs": [
    {
     "data": {
      "text/html": [
       "<div>\n",
       "<style scoped>\n",
       "    .dataframe tbody tr th:only-of-type {\n",
       "        vertical-align: middle;\n",
       "    }\n",
       "\n",
       "    .dataframe tbody tr th {\n",
       "        vertical-align: top;\n",
       "    }\n",
       "\n",
       "    .dataframe thead th {\n",
       "        text-align: right;\n",
       "    }\n",
       "</style>\n",
       "<table border=\"1\" class=\"dataframe\">\n",
       "  <thead>\n",
       "    <tr style=\"text-align: right;\">\n",
       "      <th></th>\n",
       "      <th>sumsquare_error</th>\n",
       "      <th>aic</th>\n",
       "      <th>bic</th>\n",
       "      <th>kl_div</th>\n",
       "    </tr>\n",
       "  </thead>\n",
       "  <tbody>\n",
       "    <tr>\n",
       "      <th>expon</th>\n",
       "      <td>2.425526e-08</td>\n",
       "      <td>14173.709565</td>\n",
       "      <td>-368567.662505</td>\n",
       "      <td>inf</td>\n",
       "    </tr>\n",
       "    <tr>\n",
       "      <th>chi2</th>\n",
       "      <td>1.973519e-07</td>\n",
       "      <td>3520.529306</td>\n",
       "      <td>-339997.400418</td>\n",
       "      <td>inf</td>\n",
       "    </tr>\n",
       "    <tr>\n",
       "      <th>exponpow</th>\n",
       "      <td>2.233021e-07</td>\n",
       "      <td>2843.592017</td>\n",
       "      <td>-338314.334035</td>\n",
       "      <td>inf</td>\n",
       "    </tr>\n",
       "    <tr>\n",
       "      <th>cauchy</th>\n",
       "      <td>2.439586e-07</td>\n",
       "      <td>3546.320380</td>\n",
       "      <td>-337118.496808</td>\n",
       "      <td>inf</td>\n",
       "    </tr>\n",
       "  </tbody>\n",
       "</table>\n",
       "</div>"
      ],
      "text/plain": [
       "          sumsquare_error           aic            bic  kl_div\n",
       "expon        2.425526e-08  14173.709565 -368567.662505     inf\n",
       "chi2         1.973519e-07   3520.529306 -339997.400418     inf\n",
       "exponpow     2.233021e-07   2843.592017 -338314.334035     inf\n",
       "cauchy       2.439586e-07   3546.320380 -337118.496808     inf"
      ]
     },
     "execution_count": 14,
     "metadata": {},
     "output_type": "execute_result"
    },
    {
     "data": {
      "image/png": "[encoded data removed]",
      "text/plain": [
       "<Figure size 432x288 with 1 Axes>"
      ]
     },
     "metadata": {
      "needs_background": "light"
     },
     "output_type": "display_data"
    }
   ],
   "source": [
    "f = Fitter(all['MSE_15'],\n",
    "           distributions = distribution1)\n",
    "f.fit()\n",
    "f.summary()"
   ]
  },
  {
   "cell_type": "code",
   "execution_count": 15,
   "metadata": {},
   "outputs": [
    {
     "data": {
      "text/html": [
       "<div>\n",
       "<style scoped>\n",
       "    .dataframe tbody tr th:only-of-type {\n",
       "        vertical-align: middle;\n",
       "    }\n",
       "\n",
       "    .dataframe tbody tr th {\n",
       "        vertical-align: top;\n",
       "    }\n",
       "\n",
       "    .dataframe thead th {\n",
       "        text-align: right;\n",
       "    }\n",
       "</style>\n",
       "<table border=\"1\" class=\"dataframe\">\n",
       "  <thead>\n",
       "    <tr style=\"text-align: right;\">\n",
       "      <th></th>\n",
       "      <th>sumsquare_error</th>\n",
       "      <th>aic</th>\n",
       "      <th>bic</th>\n",
       "      <th>kl_div</th>\n",
       "    </tr>\n",
       "  </thead>\n",
       "  <tbody>\n",
       "    <tr>\n",
       "      <th>lognorm</th>\n",
       "      <td>1.474648e-07</td>\n",
       "      <td>3.344171e+03</td>\n",
       "      <td>-343967.422218</td>\n",
       "      <td>inf</td>\n",
       "    </tr>\n",
       "    <tr>\n",
       "      <th>rayleigh</th>\n",
       "      <td>2.455987e-07</td>\n",
       "      <td>4.905778e+04</td>\n",
       "      <td>-337027.207950</td>\n",
       "      <td>inf</td>\n",
       "    </tr>\n",
       "    <tr>\n",
       "      <th>powerlaw</th>\n",
       "      <td>3.007961e-07</td>\n",
       "      <td>2.591851e+03</td>\n",
       "      <td>-334255.646040</td>\n",
       "      <td>inf</td>\n",
       "    </tr>\n",
       "    <tr>\n",
       "      <th>gamma</th>\n",
       "      <td>4.188756e-07</td>\n",
       "      <td>3.048231e+06</td>\n",
       "      <td>-329744.176860</td>\n",
       "      <td>0.174455</td>\n",
       "    </tr>\n",
       "  </tbody>\n",
       "</table>\n",
       "</div>"
      ],
      "text/plain": [
       "          sumsquare_error           aic            bic    kl_div\n",
       "lognorm      1.474648e-07  3.344171e+03 -343967.422218       inf\n",
       "rayleigh     2.455987e-07  4.905778e+04 -337027.207950       inf\n",
       "powerlaw     3.007961e-07  2.591851e+03 -334255.646040       inf\n",
       "gamma        4.188756e-07  3.048231e+06 -329744.176860  0.174455"
      ]
     },
     "execution_count": 15,
     "metadata": {},
     "output_type": "execute_result"
    },
    {
     "data": {
      "image/png": "[encoded data removed]",
      "text/plain": [
       "<Figure size 432x288 with 1 Axes>"
      ]
     },
     "metadata": {
      "needs_background": "light"
     },
     "output_type": "display_data"
    }
   ],
   "source": [
    "f = Fitter(all['MSE_15'],\n",
    "           distributions = distribution2)\n",
    "f.fit()\n",
    "f.summary()"
   ]
  },
  {
   "cell_type": "markdown",
   "metadata": {},
   "source": [
    "## Wasserstein distance"
   ]
  },
  {
   "cell_type": "markdown",
   "metadata": {},
   "source": [
    "#### child/all"
   ]
  },
  {
   "cell_type": "code",
   "execution_count": 4,
   "metadata": {},
   "outputs": [
    {
     "name": "stdout",
     "output_type": "stream",
     "text": [
      "MSE 0.5:  66.954376709178\n",
      "MSE 1.0:  417.12100878253693\n",
      "MSE 1.5:  1569.3748225779534\n",
      "CMSE 1.5:  1519.6621693126172\n",
      "CFMSE 1.5:  6473.125268584174\n"
     ]
    }
   ],
   "source": [
    "print('MSE 0.5: ', stats.wasserstein_distance(child['MSE_05'], all['MSE_05']))\n",
    "print('MSE 1.0: ', stats.wasserstein_distance(child['MSE_10'], all['MSE_10']))\n",
    "print('MSE 1.5: ', stats.wasserstein_distance(child['MSE_15'], all['MSE_15']))\n",
    "print('CMSE 1.5: ', stats.wasserstein_distance(child['CMSE'], all['CMSE']))\n",
    "print('CFMSE 1.5: ', stats.wasserstein_distance(child['CFMSE'], all['CFMSE']))"
   ]
  },
  {
   "cell_type": "markdown",
   "metadata": {},
   "source": [
    "#### adult/all"
   ]
  },
  {
   "cell_type": "code",
   "execution_count": 5,
   "metadata": {},
   "outputs": [
    {
     "name": "stdout",
     "output_type": "stream",
     "text": [
      "MSE 0.5:  72.7125306861854\n",
      "MSE 1.0:  262.3613019358486\n",
      "MSE 1.5:  823.7448843891411\n",
      "CMSE 1.5:  757.119221041205\n",
      "CFMSE 1.5:  3152.3065810573535\n"
     ]
    }
   ],
   "source": [
    "print('MSE 0.5: ', stats.wasserstein_distance(adult['MSE_05'], all['MSE_05']))\n",
    "print('MSE 1.0: ', stats.wasserstein_distance(adult['MSE_10'], all['MSE_10']))\n",
    "print('MSE 1.5: ', stats.wasserstein_distance(adult['MSE_15'], all['MSE_15']))\n",
    "print('CMSE 1.5: ', stats.wasserstein_distance(adult['CMSE'], all['CMSE']))\n",
    "print('CFMSE 1.5: ', stats.wasserstein_distance(adult['CFMSE'], all['CFMSE']))"
   ]
  },
  {
   "cell_type": "markdown",
   "metadata": {},
   "source": [
    "#### elderly/all"
   ]
  },
  {
   "cell_type": "code",
   "execution_count": 6,
   "metadata": {},
   "outputs": [
    {
     "name": "stdout",
     "output_type": "stream",
     "text": [
      "MSE 0.5:  62.58633912179655\n",
      "MSE 1.0:  164.3236179533732\n",
      "MSE 1.5:  429.59379617726154\n",
      "CMSE 1.5:  390.3609203001706\n",
      "CFMSE 1.5:  1486.4961891182422\n"
     ]
    }
   ],
   "source": [
    "print('MSE 0.5: ', stats.wasserstein_distance(elderly['MSE_05'], all['MSE_05']))\n",
    "print('MSE 1.0: ', stats.wasserstein_distance(elderly['MSE_10'], all['MSE_10']))\n",
    "print('MSE 1.5: ', stats.wasserstein_distance(elderly['MSE_15'], all['MSE_15']))\n",
    "print('CMSE 1.5: ', stats.wasserstein_distance(elderly['CMSE'], all['CMSE']))\n",
    "print('CFMSE 1.5: ', stats.wasserstein_distance(elderly['CFMSE'], all['CFMSE']))"
   ]
  },
  {
   "cell_type": "markdown",
   "metadata": {},
   "source": [
    "#### male/all"
   ]
  },
  {
   "cell_type": "code",
   "execution_count": 7,
   "metadata": {},
   "outputs": [
    {
     "name": "stdout",
     "output_type": "stream",
     "text": [
      "MSE 0.5:  84.82838957518834\n",
      "MSE 1.0:  233.9784181481713\n",
      "MSE 1.5:  647.2317839490587\n",
      "CMSE 1.5:  571.8967044288843\n",
      "CFMSE 1.5:  2319.5094781287603\n"
     ]
    }
   ],
   "source": [
    "print('MSE 0.5: ', stats.wasserstein_distance(male['MSE_05'], all['MSE_05']))\n",
    "print('MSE 1.0: ', stats.wasserstein_distance(male['MSE_10'], all['MSE_10']))\n",
    "print('MSE 1.5: ', stats.wasserstein_distance(male['MSE_15'], all['MSE_15']))\n",
    "print('CMSE 1.5: ', stats.wasserstein_distance(male['CMSE'], all['CMSE']))\n",
    "print('CFMSE 1.5: ', stats.wasserstein_distance(male['CFMSE'], all['CFMSE']))"
   ]
  },
  {
   "cell_type": "markdown",
   "metadata": {},
   "source": [
    "#### female/all"
   ]
  },
  {
   "cell_type": "code",
   "execution_count": 8,
   "metadata": {},
   "outputs": [
    {
     "name": "stdout",
     "output_type": "stream",
     "text": [
      "MSE 0.5:  63.76020459455134\n",
      "MSE 1.0:  261.6894157151236\n",
      "MSE 1.5:  855.2095194220824\n",
      "CMSE 1.5:  799.7762708744531\n",
      "CFMSE 1.5:  3271.309134431134\n"
     ]
    }
   ],
   "source": [
    "print('MSE 0.5: ', stats.wasserstein_distance(female['MSE_05'], all['MSE_05']))\n",
    "print('MSE 1.0: ', stats.wasserstein_distance(female['MSE_10'], all['MSE_10']))\n",
    "print('MSE 1.5: ', stats.wasserstein_distance(female['MSE_15'], all['MSE_15']))\n",
    "print('CMSE 1.5: ', stats.wasserstein_distance(female['CMSE'], all['CMSE']))\n",
    "print('CFMSE 1.5: ', stats.wasserstein_distance(female['CFMSE'], all['CFMSE']))"
   ]
  },
  {
   "cell_type": "markdown",
   "metadata": {},
   "source": [
    "#### child/labeled"
   ]
  },
  {
   "cell_type": "code",
   "execution_count": 4,
   "metadata": {},
   "outputs": [
    {
     "name": "stdout",
     "output_type": "stream",
     "text": [
      "MSE 0.5:  12.302174036845276\n",
      "MSE 1.0:  180.04948837393187\n",
      "MSE 1.5:  837.6306915769576\n",
      "CMSE 1.5:  848.3452045919272\n",
      "CFMSE 1.5:  3708.8810162359573\n"
     ]
    }
   ],
   "source": [
    "print('MSE 0.5: ', stats.wasserstein_distance(child['MSE_05'], labeled['MSE_05']))\n",
    "print('MSE 1.0: ', stats.wasserstein_distance(child['MSE_10'], labeled['MSE_10']))\n",
    "print('MSE 1.5: ', stats.wasserstein_distance(child['MSE_15'], labeled['MSE_15']))\n",
    "print('CMSE 1.5: ', stats.wasserstein_distance(child['CMSE'], labeled['CMSE']))\n",
    "print('CFMSE 1.5: ', stats.wasserstein_distance(child['CFMSE'], labeled['CFMSE']))"
   ]
  },
  {
   "cell_type": "markdown",
   "metadata": {},
   "source": [
    "#### adult/labeled"
   ]
  },
  {
   "cell_type": "code",
   "execution_count": 5,
   "metadata": {},
   "outputs": [
    {
     "name": "stdout",
     "output_type": "stream",
     "text": [
      "MSE 0.5:  3.957803210250134\n",
      "MSE 1.0:  24.9062297518825\n",
      "MSE 1.5:  91.46096362522444\n",
      "CMSE 1.5:  85.18643634626434\n",
      "CFMSE 1.5:  373.0062295149812\n"
     ]
    }
   ],
   "source": [
    "print('MSE 0.5: ', stats.wasserstein_distance(adult['MSE_05'], labeled['MSE_05']))\n",
    "print('MSE 1.0: ', stats.wasserstein_distance(adult['MSE_10'], labeled['MSE_10']))\n",
    "print('MSE 1.5: ', stats.wasserstein_distance(adult['MSE_15'], labeled['MSE_15']))\n",
    "print('CMSE 1.5: ', stats.wasserstein_distance(adult['CMSE'], labeled['CMSE']))\n",
    "print('CFMSE 1.5: ', stats.wasserstein_distance(adult['CFMSE'], labeled['CFMSE']))"
   ]
  },
  {
   "cell_type": "markdown",
   "metadata": {},
   "source": [
    "#### elderly/labeled"
   ]
  },
  {
   "cell_type": "code",
   "execution_count": 6,
   "metadata": {},
   "outputs": [
    {
     "name": "stdout",
     "output_type": "stream",
     "text": [
      "MSE 0.5:  17.537971452741623\n",
      "MSE 1.0:  186.9678908129215\n",
      "MSE 1.5:  768.0925506225743\n",
      "CMSE 1.5:  745.490676924858\n",
      "CFMSE 1.5:  3300.778391557905\n"
     ]
    }
   ],
   "source": [
    "print('MSE 0.5: ', stats.wasserstein_distance(elderly['MSE_05'], labeled['MSE_05']))\n",
    "print('MSE 1.0: ', stats.wasserstein_distance(elderly['MSE_10'], labeled['MSE_10']))\n",
    "print('MSE 1.5: ', stats.wasserstein_distance(elderly['MSE_15'], labeled['MSE_15']))\n",
    "print('CMSE 1.5: ', stats.wasserstein_distance(elderly['CMSE'], labeled['CMSE']))\n",
    "print('CFMSE 1.5: ', stats.wasserstein_distance(elderly['CFMSE'], labeled['CFMSE']))"
   ]
  },
  {
   "cell_type": "markdown",
   "metadata": {},
   "source": [
    "#### male/labeled"
   ]
  },
  {
   "cell_type": "code",
   "execution_count": 7,
   "metadata": {},
   "outputs": [
    {
     "name": "stdout",
     "output_type": "stream",
     "text": [
      "MSE 0.5:  15.840780736653674\n",
      "MSE 1.0:  40.81868028876448\n",
      "MSE 1.5:  182.29156212116933\n",
      "CMSE 1.5:  175.9909114698402\n",
      "CFMSE 1.5:  745.2676142485569\n"
     ]
    }
   ],
   "source": [
    "print('MSE 0.5: ', stats.wasserstein_distance(male['MSE_05'], labeled['MSE_05']))\n",
    "print('MSE 1.0: ', stats.wasserstein_distance(male['MSE_10'], labeled['MSE_10']))\n",
    "print('MSE 1.5: ', stats.wasserstein_distance(male['MSE_15'], labeled['MSE_15']))\n",
    "print('CMSE 1.5: ', stats.wasserstein_distance(male['CMSE'], labeled['CMSE']))\n",
    "print('CFMSE 1.5: ', stats.wasserstein_distance(male['CFMSE'], labeled['CFMSE']))"
   ]
  },
  {
   "cell_type": "markdown",
   "metadata": {},
   "source": [
    "#### female/labeled"
   ]
  },
  {
   "cell_type": "code",
   "execution_count": 8,
   "metadata": {},
   "outputs": [
    {
     "name": "stdout",
     "output_type": "stream",
     "text": [
      "MSE 0.5:  7.323650791706884\n",
      "MSE 1.0:  30.492125415829364\n",
      "MSE 1.5:  131.28331647606157\n",
      "CMSE 1.5:  127.40929869016504\n",
      "CFMSE 1.5:  511.710361282182\n"
     ]
    }
   ],
   "source": [
    "print('MSE 0.5: ', stats.wasserstein_distance(female['MSE_05'], labeled['MSE_05']))\n",
    "print('MSE 1.0: ', stats.wasserstein_distance(female['MSE_10'], labeled['MSE_10']))\n",
    "print('MSE 1.5: ', stats.wasserstein_distance(female['MSE_15'], labeled['MSE_15']))\n",
    "print('CMSE 1.5: ', stats.wasserstein_distance(female['CMSE'], labeled['CMSE']))\n",
    "print('CFMSE 1.5: ', stats.wasserstein_distance(female['CFMSE'], labeled['CFMSE']))"
   ]
  },
  {
   "cell_type": "markdown",
   "metadata": {},
   "source": [
    "#### child/adult"
   ]
  },
  {
   "cell_type": "code",
   "execution_count": 9,
   "metadata": {},
   "outputs": [
    {
     "name": "stdout",
     "output_type": "stream",
     "text": [
      "MSE 0.5:  13.762306545620042\n",
      "MSE 1.0:  159.38386169092098\n",
      "MSE 1.5:  762.569995855922\n",
      "CMSE 1.5:  779.301632441203\n",
      "CFMSE 1.5:  3399.161676817207\n"
     ]
    }
   ],
   "source": [
    "print('MSE 0.5: ', stats.wasserstein_distance(child['MSE_05'], adult['MSE_05']))\n",
    "print('MSE 1.0: ', stats.wasserstein_distance(child['MSE_10'], adult['MSE_10']))\n",
    "print('MSE 1.5: ', stats.wasserstein_distance(child['MSE_15'], adult['MSE_15']))\n",
    "print('CMSE 1.5: ', stats.wasserstein_distance(child['CMSE'], adult['CMSE']))\n",
    "print('CFMSE 1.5: ', stats.wasserstein_distance(child['CFMSE'], adult['CFMSE']))"
   ]
  },
  {
   "cell_type": "markdown",
   "metadata": {},
   "source": [
    "#### elderly/adult"
   ]
  },
  {
   "cell_type": "code",
   "execution_count": 10,
   "metadata": {},
   "outputs": [
    {
     "name": "stdout",
     "output_type": "stream",
     "text": [
      "MSE 0.5:  21.433322593201392\n",
      "MSE 1.0:  209.3107826683495\n",
      "MSE 1.5:  849.0623364134645\n",
      "CMSE 1.5:  820.3807606329542\n",
      "CFMSE 1.5:  3637.8238688133233\n"
     ]
    }
   ],
   "source": [
    "print('MSE 0.5: ', stats.wasserstein_distance(elderly['MSE_05'], adult['MSE_05']))\n",
    "print('MSE 1.0: ', stats.wasserstein_distance(elderly['MSE_10'], adult['MSE_10']))\n",
    "print('MSE 1.5: ', stats.wasserstein_distance(elderly['MSE_15'], adult['MSE_15']))\n",
    "print('CMSE 1.5: ', stats.wasserstein_distance(elderly['CMSE'], adult['CMSE']))\n",
    "print('CFMSE 1.5: ', stats.wasserstein_distance(elderly['CFMSE'], adult['CFMSE']))"
   ]
  },
  {
   "cell_type": "markdown",
   "metadata": {},
   "source": [
    "#### male/female"
   ]
  },
  {
   "cell_type": "code",
   "execution_count": 11,
   "metadata": {},
   "outputs": [
    {
     "name": "stdout",
     "output_type": "stream",
     "text": [
      "MSE 0.5:  22.71403806531988\n",
      "MSE 1.0:  70.58922553753852\n",
      "MSE 1.5:  313.549470440396\n",
      "CMSE 1.5:  303.38087882194094\n",
      "CFMSE 1.5:  1255.122773708932\n"
     ]
    }
   ],
   "source": [
    "print('MSE 0.5: ', stats.wasserstein_distance(male['MSE_05'], female['MSE_05']))\n",
    "print('MSE 1.0: ', stats.wasserstein_distance(male['MSE_10'], female['MSE_10']))\n",
    "print('MSE 1.5: ', stats.wasserstein_distance(male['MSE_15'], female['MSE_15']))\n",
    "print('CMSE 1.5: ', stats.wasserstein_distance(male['CMSE'], female['CMSE']))\n",
    "print('CFMSE 1.5: ', stats.wasserstein_distance(male['CFMSE'], female['CFMSE']))"
   ]
  }
 ],
 "metadata": {
  "kernelspec": {
   "display_name": "Python 3.9.12 ('base')",
   "language": "python",
   "name": "python3"
  },
  "language_info": {
   "codemirror_mode": {
    "name": "ipython",
    "version": 3
   },
   "file_extension": ".py",
   "mimetype": "text/x-python",
   "name": "python",
   "nbconvert_exporter": "python",
   "pygments_lexer": "ipython3",
   "version": "3.9.12"
  },
  "orig_nbformat": 4,
  "vscode": {
   "interpreter": {
    "hash": "db33168a371558177f016f3dcfd823d58450a3b104f322b87989a5f237dccb9b"
   }
  }
 },
 "nbformat": 4,
 "nbformat_minor": 2
}
